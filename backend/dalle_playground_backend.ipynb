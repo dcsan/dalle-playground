{
  "cells": [
    {
      "cell_type": "markdown",
      "metadata": {
        "id": "118UKH5bWCGa"
      },
      "source": [
        "<center><img src=\"https://emojipedia-us.s3.dualstack.us-west-1.amazonaws.com/thumbs/240/apple/285/woman-artist_1f469-200d-1f3a8.png\" width=\"120\">\n",
        "</center>\n",
        "\n",
        "### <center>Use this notebook to run your DALL-E server</center>\n",
        "### <center> [DALL-E Playground Repository](https://github.com/saharmor/dalle-playground) </center>\n",
        "\n",
        "#####<center>This notebook is based on the amazing [DALL·E Mini](https://github.com/borisdayma/dalle-mini) by [Boris Dayma](https://github.com/borisdayma) et al.</center>"
      ]
    },
    {
      "cell_type": "markdown",
      "metadata": {
        "id": "dS8LbaonYm3a"
      },
      "source": [
        "## Install dependencies"
      ]
    },
    {
      "cell_type": "code",
      "execution_count": null,
      "metadata": {
        "id": "MyO_o-lTQn2A",
        "outputId": "b1495adf-0a46-4408-eaa2-bb2e54428a52",
        "colab": {
          "base_uri": "https://localhost:8080/",
          "height": 1000
        }
      },
      "outputs": [
        {
          "output_type": "stream",
          "name": "stdout",
          "text": [
            "Cloning into 'dalle-playground'...\n",
            "remote: Enumerating objects: 629, done.\u001b[K\n",
            "remote: Counting objects: 100% (148/148), done.\u001b[K\n",
            "remote: Compressing objects: 100% (93/93), done.\u001b[K\n",
            "remote: Total 629 (delta 85), reused 93 (delta 55), pack-reused 481\u001b[K\n",
            "Receiving objects: 100% (629/629), 1.75 MiB | 18.11 MiB/s, done.\n",
            "Resolving deltas: 100% (366/366), done.\n",
            "Looking in indexes: https://pypi.org/simple, https://us-python.pkg.dev/colab-wheels/public/simple/\n",
            "Collecting git+https://github.com/huggingface/transformers.git (from -r dalle-playground/backend/requirements.txt (line 5))\n",
            "  Cloning https://github.com/huggingface/transformers.git to /tmp/pip-req-build-nsrjz8cw\n",
            "  Running command git clone -q https://github.com/huggingface/transformers.git /tmp/pip-req-build-nsrjz8cw\n",
            "  Installing build dependencies ... \u001b[?25l\u001b[?25hdone\n",
            "  Getting requirements to build wheel ... \u001b[?25l\u001b[?25hdone\n",
            "    Preparing wheel metadata ... \u001b[?25l\u001b[?25hdone\n",
            "Collecting git+https://github.com/patil-suraj/vqgan-jax.git (from -r dalle-playground/backend/requirements.txt (line 6))\n",
            "  Cloning https://github.com/patil-suraj/vqgan-jax.git to /tmp/pip-req-build-qjd_d3bd\n",
            "  Running command git clone -q https://github.com/patil-suraj/vqgan-jax.git /tmp/pip-req-build-qjd_d3bd\n",
            "Collecting git+https://github.com/borisdayma/dalle-mini.git (from -r dalle-playground/backend/requirements.txt (line 7))\n",
            "  Cloning https://github.com/borisdayma/dalle-mini.git to /tmp/pip-req-build-t7g7lj32\n",
            "  Running command git clone -q https://github.com/borisdayma/dalle-mini.git /tmp/pip-req-build-t7g7lj32\n",
            "  Installing build dependencies ... \u001b[?25l\u001b[?25hdone\n",
            "  Getting requirements to build wheel ... \u001b[?25l\u001b[?25hdone\n",
            "    Preparing wheel metadata ... \u001b[?25l\u001b[?25hdone\n",
            "Collecting Flask==2.1.0\n",
            "  Downloading Flask-2.1.0-py3-none-any.whl (95 kB)\n",
            "\u001b[K     |████████████████████████████████| 95 kB 3.4 MB/s \n",
            "\u001b[?25hCollecting Flask-Cors==3.0.9\n",
            "  Downloading Flask_Cors-3.0.9-py2.py3-none-any.whl (14 kB)\n",
            "Collecting Flask-RESTful==0.3.8\n",
            "  Downloading Flask_RESTful-0.3.8-py2.py3-none-any.whl (25 kB)\n",
            "Collecting flax==0.5.0\n",
            "  Downloading flax-0.5.0-py3-none-any.whl (190 kB)\n",
            "\u001b[K     |████████████████████████████████| 190 kB 50.0 MB/s \n",
            "\u001b[?25hRequirement already satisfied: tqdm in /usr/local/lib/python3.7/dist-packages (from -r dalle-playground/backend/requirements.txt (line 8)) (4.64.0)\n",
            "Collecting emoji\n",
            "  Downloading emoji-1.7.0.tar.gz (175 kB)\n",
            "\u001b[K     |████████████████████████████████| 175 kB 60.3 MB/s \n",
            "\u001b[?25hRequirement already satisfied: pillow in /usr/local/lib/python3.7/dist-packages (from dalle-mini==0.1.1->-r dalle-playground/backend/requirements.txt (line 7)) (7.1.2)\n",
            "Collecting unidecode\n",
            "  Downloading Unidecode-1.3.4-py3-none-any.whl (235 kB)\n",
            "\u001b[K     |████████████████████████████████| 235 kB 54.4 MB/s \n",
            "\u001b[?25hCollecting einops\n",
            "  Downloading einops-0.4.1-py3-none-any.whl (28 kB)\n",
            "Collecting wandb\n",
            "  Downloading wandb-0.12.19-py2.py3-none-any.whl (1.8 MB)\n",
            "\u001b[K     |████████████████████████████████| 1.8 MB 50.4 MB/s \n",
            "\u001b[?25hRequirement already satisfied: jax in /usr/local/lib/python3.7/dist-packages (from dalle-mini==0.1.1->-r dalle-playground/backend/requirements.txt (line 7)) (0.3.8)\n",
            "Collecting ftfy\n",
            "  Downloading ftfy-6.1.1-py3-none-any.whl (53 kB)\n",
            "\u001b[K     |████████████████████████████████| 53 kB 1.5 MB/s \n",
            "\u001b[?25hRequirement already satisfied: importlib-metadata in /usr/local/lib/python3.7/dist-packages (from transformers==4.21.0.dev0->-r dalle-playground/backend/requirements.txt (line 5)) (4.11.4)\n",
            "Requirement already satisfied: filelock in /usr/local/lib/python3.7/dist-packages (from transformers==4.21.0.dev0->-r dalle-playground/backend/requirements.txt (line 5)) (3.7.1)\n",
            "Collecting huggingface-hub<1.0,>=0.1.0\n",
            "  Downloading huggingface_hub-0.8.1-py3-none-any.whl (101 kB)\n",
            "\u001b[K     |████████████████████████████████| 101 kB 6.5 MB/s \n",
            "\u001b[?25hRequirement already satisfied: regex!=2019.12.17 in /usr/local/lib/python3.7/dist-packages (from transformers==4.21.0.dev0->-r dalle-playground/backend/requirements.txt (line 5)) (2022.6.2)\n",
            "Requirement already satisfied: numpy>=1.17 in /usr/local/lib/python3.7/dist-packages (from transformers==4.21.0.dev0->-r dalle-playground/backend/requirements.txt (line 5)) (1.21.6)\n",
            "Requirement already satisfied: packaging>=20.0 in /usr/local/lib/python3.7/dist-packages (from transformers==4.21.0.dev0->-r dalle-playground/backend/requirements.txt (line 5)) (21.3)\n",
            "Collecting pyyaml>=5.1\n",
            "  Downloading PyYAML-6.0-cp37-cp37m-manylinux_2_5_x86_64.manylinux1_x86_64.manylinux_2_12_x86_64.manylinux2010_x86_64.whl (596 kB)\n",
            "\u001b[K     |████████████████████████████████| 596 kB 71.2 MB/s \n",
            "\u001b[?25hCollecting tokenizers!=0.11.3,<0.13,>=0.11.1\n",
            "  Downloading tokenizers-0.12.1-cp37-cp37m-manylinux_2_12_x86_64.manylinux2010_x86_64.whl (6.6 MB)\n",
            "\u001b[K     |████████████████████████████████| 6.6 MB 53.6 MB/s \n",
            "\u001b[?25hRequirement already satisfied: requests in /usr/local/lib/python3.7/dist-packages (from transformers==4.21.0.dev0->-r dalle-playground/backend/requirements.txt (line 5)) (2.23.0)\n",
            "Collecting Werkzeug>=2.0\n",
            "  Downloading Werkzeug-2.1.2-py3-none-any.whl (224 kB)\n",
            "\u001b[K     |████████████████████████████████| 224 kB 72.3 MB/s \n",
            "\u001b[?25hCollecting click>=8.0\n",
            "  Downloading click-8.1.3-py3-none-any.whl (96 kB)\n",
            "\u001b[K     |████████████████████████████████| 96 kB 4.8 MB/s \n",
            "\u001b[?25hCollecting itsdangerous>=2.0\n",
            "  Downloading itsdangerous-2.1.2-py3-none-any.whl (15 kB)\n",
            "Collecting Jinja2>=3.0\n",
            "  Downloading Jinja2-3.1.2-py3-none-any.whl (133 kB)\n",
            "\u001b[K     |████████████████████████████████| 133 kB 54.8 MB/s \n",
            "\u001b[?25hRequirement already satisfied: Six in /usr/local/lib/python3.7/dist-packages (from Flask-Cors==3.0.9->-r dalle-playground/backend/requirements.txt (line 2)) (1.15.0)\n",
            "Requirement already satisfied: pytz in /usr/local/lib/python3.7/dist-packages (from Flask-RESTful==0.3.8->-r dalle-playground/backend/requirements.txt (line 3)) (2022.1)\n",
            "Collecting aniso8601>=0.82\n",
            "  Downloading aniso8601-9.0.1-py2.py3-none-any.whl (52 kB)\n",
            "\u001b[K     |████████████████████████████████| 52 kB 1.3 MB/s \n",
            "\u001b[?25hCollecting optax\n",
            "  Downloading optax-0.1.2-py3-none-any.whl (140 kB)\n",
            "\u001b[K     |████████████████████████████████| 140 kB 59.9 MB/s \n",
            "\u001b[?25hRequirement already satisfied: matplotlib in /usr/local/lib/python3.7/dist-packages (from flax==0.5.0->-r dalle-playground/backend/requirements.txt (line 4)) (3.2.2)\n",
            "Requirement already satisfied: typing-extensions>=4.1.1 in /usr/local/lib/python3.7/dist-packages (from flax==0.5.0->-r dalle-playground/backend/requirements.txt (line 4)) (4.1.1)\n",
            "Requirement already satisfied: msgpack in /usr/local/lib/python3.7/dist-packages (from flax==0.5.0->-r dalle-playground/backend/requirements.txt (line 4)) (1.0.4)\n",
            "Requirement already satisfied: opt-einsum in /usr/local/lib/python3.7/dist-packages (from jax->dalle-mini==0.1.1->-r dalle-playground/backend/requirements.txt (line 7)) (3.3.0)\n",
            "Requirement already satisfied: absl-py in /usr/local/lib/python3.7/dist-packages (from jax->dalle-mini==0.1.1->-r dalle-playground/backend/requirements.txt (line 7)) (1.1.0)\n",
            "Requirement already satisfied: scipy>=1.2.1 in /usr/local/lib/python3.7/dist-packages (from jax->dalle-mini==0.1.1->-r dalle-playground/backend/requirements.txt (line 7)) (1.4.1)\n",
            "Requirement already satisfied: MarkupSafe>=2.0 in /usr/local/lib/python3.7/dist-packages (from Jinja2>=3.0->Flask==2.1.0->-r dalle-playground/backend/requirements.txt (line 1)) (2.0.1)\n",
            "Requirement already satisfied: pyparsing!=3.0.5,>=2.0.2 in /usr/local/lib/python3.7/dist-packages (from packaging>=20.0->transformers==4.21.0.dev0->-r dalle-playground/backend/requirements.txt (line 5)) (3.0.9)\n",
            "Requirement already satisfied: wcwidth>=0.2.5 in /usr/local/lib/python3.7/dist-packages (from ftfy->dalle-mini==0.1.1->-r dalle-playground/backend/requirements.txt (line 7)) (0.2.5)\n",
            "Requirement already satisfied: zipp>=0.5 in /usr/local/lib/python3.7/dist-packages (from importlib-metadata->transformers==4.21.0.dev0->-r dalle-playground/backend/requirements.txt (line 5)) (3.8.0)\n",
            "Requirement already satisfied: cycler>=0.10 in /usr/local/lib/python3.7/dist-packages (from matplotlib->flax==0.5.0->-r dalle-playground/backend/requirements.txt (line 4)) (0.11.0)\n",
            "Requirement already satisfied: kiwisolver>=1.0.1 in /usr/local/lib/python3.7/dist-packages (from matplotlib->flax==0.5.0->-r dalle-playground/backend/requirements.txt (line 4)) (1.4.3)\n",
            "Requirement already satisfied: python-dateutil>=2.1 in /usr/local/lib/python3.7/dist-packages (from matplotlib->flax==0.5.0->-r dalle-playground/backend/requirements.txt (line 4)) (2.8.2)\n",
            "Collecting chex>=0.0.4\n",
            "  Downloading chex-0.1.3-py3-none-any.whl (72 kB)\n",
            "\u001b[K     |████████████████████████████████| 72 kB 527 kB/s \n",
            "\u001b[?25hRequirement already satisfied: jaxlib>=0.1.37 in /usr/local/lib/python3.7/dist-packages (from optax->flax==0.5.0->-r dalle-playground/backend/requirements.txt (line 4)) (0.3.7+cuda11.cudnn805)\n",
            "Requirement already satisfied: toolz>=0.9.0 in /usr/local/lib/python3.7/dist-packages (from chex>=0.0.4->optax->flax==0.5.0->-r dalle-playground/backend/requirements.txt (line 4)) (0.11.2)\n",
            "Requirement already satisfied: dm-tree>=0.1.5 in /usr/local/lib/python3.7/dist-packages (from chex>=0.0.4->optax->flax==0.5.0->-r dalle-playground/backend/requirements.txt (line 4)) (0.1.7)\n",
            "Requirement already satisfied: flatbuffers<3.0,>=1.12 in /usr/local/lib/python3.7/dist-packages (from jaxlib>=0.1.37->optax->flax==0.5.0->-r dalle-playground/backend/requirements.txt (line 4)) (2.0)\n",
            "Requirement already satisfied: certifi>=2017.4.17 in /usr/local/lib/python3.7/dist-packages (from requests->transformers==4.21.0.dev0->-r dalle-playground/backend/requirements.txt (line 5)) (2022.6.15)\n",
            "Requirement already satisfied: chardet<4,>=3.0.2 in /usr/local/lib/python3.7/dist-packages (from requests->transformers==4.21.0.dev0->-r dalle-playground/backend/requirements.txt (line 5)) (3.0.4)\n",
            "Requirement already satisfied: idna<3,>=2.5 in /usr/local/lib/python3.7/dist-packages (from requests->transformers==4.21.0.dev0->-r dalle-playground/backend/requirements.txt (line 5)) (2.10)\n",
            "Requirement already satisfied: urllib3!=1.25.0,!=1.25.1,<1.26,>=1.21.1 in /usr/local/lib/python3.7/dist-packages (from requests->transformers==4.21.0.dev0->-r dalle-playground/backend/requirements.txt (line 5)) (1.24.3)\n",
            "Collecting GitPython>=1.0.0\n",
            "  Downloading GitPython-3.1.27-py3-none-any.whl (181 kB)\n",
            "\u001b[K     |████████████████████████████████| 181 kB 65.1 MB/s \n",
            "\u001b[?25hCollecting setproctitle\n",
            "  Downloading setproctitle-1.2.3-cp37-cp37m-manylinux_2_5_x86_64.manylinux1_x86_64.manylinux_2_17_x86_64.manylinux2014_x86_64.whl (29 kB)\n",
            "Requirement already satisfied: promise<3,>=2.0 in /usr/local/lib/python3.7/dist-packages (from wandb->dalle-mini==0.1.1->-r dalle-playground/backend/requirements.txt (line 7)) (2.3)\n",
            "Collecting docker-pycreds>=0.4.0\n",
            "  Downloading docker_pycreds-0.4.0-py2.py3-none-any.whl (9.0 kB)\n",
            "Requirement already satisfied: protobuf<4.0dev,>=3.12.0 in /usr/local/lib/python3.7/dist-packages (from wandb->dalle-mini==0.1.1->-r dalle-playground/backend/requirements.txt (line 7)) (3.17.3)\n",
            "Requirement already satisfied: psutil>=5.0.0 in /usr/local/lib/python3.7/dist-packages (from wandb->dalle-mini==0.1.1->-r dalle-playground/backend/requirements.txt (line 7)) (5.4.8)\n",
            "Requirement already satisfied: setuptools in /usr/local/lib/python3.7/dist-packages (from wandb->dalle-mini==0.1.1->-r dalle-playground/backend/requirements.txt (line 7)) (57.4.0)\n",
            "Collecting sentry-sdk>=1.0.0\n",
            "  Downloading sentry_sdk-1.6.0-py2.py3-none-any.whl (145 kB)\n",
            "\u001b[K     |████████████████████████████████| 145 kB 63.6 MB/s \n",
            "\u001b[?25hCollecting shortuuid>=0.5.0\n",
            "  Downloading shortuuid-1.0.9-py3-none-any.whl (9.4 kB)\n",
            "Collecting pathtools\n",
            "  Downloading pathtools-0.1.2.tar.gz (11 kB)\n",
            "Collecting gitdb<5,>=4.0.1\n",
            "  Downloading gitdb-4.0.9-py3-none-any.whl (63 kB)\n",
            "\u001b[K     |████████████████████████████████| 63 kB 1.4 MB/s \n",
            "\u001b[?25hCollecting smmap<6,>=3.0.1\n",
            "  Downloading smmap-5.0.0-py3-none-any.whl (24 kB)\n",
            "Building wheels for collected packages: dalle-mini, transformers, vqgan-jax, emoji, pathtools\n",
            "  Building wheel for dalle-mini (PEP 517) ... \u001b[?25l\u001b[?25hdone\n",
            "  Created wheel for dalle-mini: filename=dalle_mini-0.1.1-py3-none-any.whl size=34170 sha256=293357a001461d4e52ee9592f788a296dff8b1850d3b7152abe54d91e0f4f25a\n",
            "  Stored in directory: /tmp/pip-ephem-wheel-cache-bc26inuj/wheels/53/51/31/c961cd55a812e7c33b2ff5c5306847d9a0de2e4c09678327c7\n",
            "  Building wheel for transformers (PEP 517) ... \u001b[?25l\u001b[?25hdone\n",
            "  Created wheel for transformers: filename=transformers-4.21.0.dev0-py3-none-any.whl size=4466879 sha256=92d034de94035f6f8c3c6d099a0eef16161ee524bb9c3210585e027c8566e115\n",
            "  Stored in directory: /tmp/pip-ephem-wheel-cache-bc26inuj/wheels/90/a5/44/6bcd83827c8a60628c5ad602f429cd5076bcce5f2a90054947\n",
            "  Building wheel for vqgan-jax (setup.py) ... \u001b[?25l\u001b[?25hdone\n",
            "  Created wheel for vqgan-jax: filename=vqgan_jax-0.0.1-py3-none-any.whl size=7790 sha256=19353a765eea6cb9014273922e2ab8c391282018d04d5117221e2ef8fa6a603e\n",
            "  Stored in directory: /tmp/pip-ephem-wheel-cache-bc26inuj/wheels/73/53/ff/7c4234bd407b172b569c6aca48c09c2ed5e25ff6c0dd7b6338\n",
            "  Building wheel for emoji (setup.py) ... \u001b[?25l\u001b[?25hdone\n",
            "  Created wheel for emoji: filename=emoji-1.7.0-py3-none-any.whl size=171046 sha256=376e20c2db6fe78a1221c2e751c47a808c05c15f5b97e7ce1fd6a05651bb48ef\n",
            "  Stored in directory: /root/.cache/pip/wheels/8a/4e/b6/57b01db010d17ef6ea9b40300af725ef3e210cb1acfb7ac8b6\n",
            "  Building wheel for pathtools (setup.py) ... \u001b[?25l\u001b[?25hdone\n",
            "  Created wheel for pathtools: filename=pathtools-0.1.2-py3-none-any.whl size=8806 sha256=aa5e1814bc2ccc57d78f74330a69f8edf97f2f907ff4a76f4201c5a1d53f34ce\n",
            "  Stored in directory: /root/.cache/pip/wheels/3e/31/09/fa59cef12cdcfecc627b3d24273699f390e71828921b2cbba2\n",
            "Successfully built dalle-mini transformers vqgan-jax emoji pathtools\n",
            "Installing collected packages: smmap, pyyaml, gitdb, chex, Werkzeug, tokenizers, shortuuid, setproctitle, sentry-sdk, pathtools, optax, Jinja2, itsdangerous, huggingface-hub, GitPython, docker-pycreds, click, wandb, unidecode, transformers, ftfy, flax, Flask, emoji, einops, aniso8601, vqgan-jax, Flask-RESTful, Flask-Cors, dalle-mini\n",
            "  Attempting uninstall: pyyaml\n",
            "    Found existing installation: PyYAML 3.13\n",
            "    Uninstalling PyYAML-3.13:\n",
            "      Successfully uninstalled PyYAML-3.13\n",
            "  Attempting uninstall: Werkzeug\n",
            "    Found existing installation: Werkzeug 1.0.1\n",
            "    Uninstalling Werkzeug-1.0.1:\n",
            "      Successfully uninstalled Werkzeug-1.0.1\n",
            "  Attempting uninstall: Jinja2\n",
            "    Found existing installation: Jinja2 2.11.3\n",
            "    Uninstalling Jinja2-2.11.3:\n",
            "      Successfully uninstalled Jinja2-2.11.3\n",
            "  Attempting uninstall: itsdangerous\n",
            "    Found existing installation: itsdangerous 1.1.0\n",
            "    Uninstalling itsdangerous-1.1.0:\n",
            "      Successfully uninstalled itsdangerous-1.1.0\n",
            "  Attempting uninstall: click\n",
            "    Found existing installation: click 7.1.2\n",
            "    Uninstalling click-7.1.2:\n",
            "      Successfully uninstalled click-7.1.2\n",
            "  Attempting uninstall: Flask\n",
            "    Found existing installation: Flask 1.1.4\n",
            "    Uninstalling Flask-1.1.4:\n",
            "      Successfully uninstalled Flask-1.1.4\n",
            "\u001b[31mERROR: pip's dependency resolver does not currently take into account all the packages that are installed. This behaviour is the source of the following dependency conflicts.\n",
            "datascience 0.10.6 requires folium==0.2.1, but you have folium 0.8.3 which is incompatible.\u001b[0m\n",
            "Successfully installed Flask-2.1.0 Flask-Cors-3.0.9 Flask-RESTful-0.3.8 GitPython-3.1.27 Jinja2-3.1.2 Werkzeug-2.1.2 aniso8601-9.0.1 chex-0.1.3 click-8.1.3 dalle-mini-0.1.1 docker-pycreds-0.4.0 einops-0.4.1 emoji-1.7.0 flax-0.5.0 ftfy-6.1.1 gitdb-4.0.9 huggingface-hub-0.8.1 itsdangerous-2.1.2 optax-0.1.2 pathtools-0.1.2 pyyaml-6.0 sentry-sdk-1.6.0 setproctitle-1.2.3 shortuuid-1.0.9 smmap-5.0.0 tokenizers-0.12.1 transformers-4.21.0.dev0 unidecode-1.3.4 vqgan-jax-0.0.1 wandb-0.12.19\n"
          ]
        },
        {
          "output_type": "display_data",
          "data": {
            "application/vnd.colab-display-data+json": {
              "pip_warning": {
                "packages": [
                  "yaml"
                ]
              }
            }
          },
          "metadata": {}
        },
        {
          "output_type": "stream",
          "name": "stdout",
          "text": [
            "\u001b[K\u001b[?25h/tools/node/bin/lt -> /tools/node/lib/node_modules/localtunnel/bin/lt.js\n",
            "+ localtunnel@2.0.2\n",
            "added 22 packages from 22 contributors in 1.642s\n"
          ]
        }
      ],
      "source": [
        "# only if we need to reset:\n",
        "# !rm -rf dalle-playground\n",
        "!git clone https://github.com/dcsan/dalle-playground.git\n",
        "!pip install -r dalle-playground/backend/requirements.txt\n",
        "# !npm install -g localtunnel\n"
      ]
    },
    {
      "cell_type": "markdown",
      "metadata": {
        "id": "itw9hJxfl1bJ"
      },
      "source": [
        "## Choose a model\n",
        "\n",
        "* **DALL-E Mini**\n",
        "  * The original DALL-E Mini. Fastest yet suboptimal results\n",
        "  * Runs well on a 4GB GPU and the Google Colab free tier\n",
        "* **DALL-E Mega**\n",
        "  * The advanced version of DALL-E Mini. Requires more compute and VRAM\n",
        "  * Runs well on a 8GB GPU and recommended on the Google Colab Pro tier\n",
        "* **DALL-E Mega Full**\n",
        "  * The most performant DALL-E version. Requires significantly more computre and VRAM\n",
        "  * Runs well on a 12GB GPU and recommended on the Google Colab Pro+ tier\n"
      ]
    },
    {
      "cell_type": "code",
      "source": [
        "# # get/install ngrok\n",
        "# !wget --no-check-certificate -nc https://bin.equinox.io/c/4VmDzA7iaHb/ngrok-stable-linux-amd64.zip\n",
        "# !wget --no-check-certificate -nc https://eyalgruss.com/fomm/ngrok-stable-linux-amd64.zip\n",
        "# !unzip -n ngrok-stable-linux-amd64.zip\n",
        "# !pkill -f ngrok\n",
        "# !nohup /content/ngrok http -region us -inspect=false $port &\n",
        "# !npm install -g localtunnel\n",
        "\n",
        "!npm install -g npm\n",
        "!nvidia-smi\n",
        "!pip install pyngrok\n"
      ],
      "metadata": {
        "colab": {
          "base_uri": "https://localhost:8080/"
        },
        "id": "Hf_rVzOwoj1A",
        "outputId": "2604c8d0-8fd2-40ae-b712-ffc53de2d9df"
      },
      "execution_count": null,
      "outputs": [
        {
          "output_type": "stream",
          "name": "stdout",
          "text": [
            "Looking in indexes: https://pypi.org/simple, https://us-python.pkg.dev/colab-wheels/public/simple/\n",
            "Requirement already satisfied: pyngrok in /usr/local/lib/python3.7/dist-packages (5.1.0)\n",
            "Requirement already satisfied: PyYAML in /usr/local/lib/python3.7/dist-packages (from pyngrok) (6.0)\n",
            "\u001b[K\u001b[?25h/tools/node/bin/lt -> /tools/node/lib/node_modules/localtunnel/bin/lt.js\n",
            "+ localtunnel@2.0.2\n",
            "updated 1 package in 2.306s\n",
            "\n",
            "\u001b[33m\u001b[39m\n",
            "\u001b[33m   ╭────────────────────────────────────────────────────────────────╮\u001b[39m\n",
            "   \u001b[33m│\u001b[39m                                                                \u001b[33m│\u001b[39m\n",
            "   \u001b[33m│\u001b[39m      New \u001b[31mmajor\u001b[39m version of npm available! \u001b[31m6.14.8\u001b[39m → \u001b[32m8.13.1\u001b[39m       \u001b[33m│\u001b[39m\n",
            "   \u001b[33m│\u001b[39m   \u001b[33mChangelog:\u001b[39m \u001b[36mhttps://github.com/npm/cli/releases/tag/v8.13.1\u001b[39m   \u001b[33m│\u001b[39m\n",
            "   \u001b[33m│\u001b[39m               Run \u001b[32mnpm install -g npm\u001b[39m to update!                \u001b[33m│\u001b[39m\n",
            "   \u001b[33m│\u001b[39m                                                                \u001b[33m│\u001b[39m\n",
            "\u001b[33m   ╰────────────────────────────────────────────────────────────────╯\u001b[39m\n",
            "\u001b[33m\u001b[39m\n"
          ]
        }
      ]
    },
    {
      "cell_type": "code",
      "execution_count": null,
      "metadata": {
        "cellView": "form",
        "id": "BKmwZUHcl1bK"
      },
      "outputs": [],
      "source": [
        "#@title Select a model - remember to execute cell after selecting!\n",
        "\n",
        "dalle_model = 'Mega_full' #@param [\"Mini\", \"Mega\", \"Mega_full\"]"
      ]
    },
    {
      "cell_type": "markdown",
      "metadata": {
        "id": "sqF_iNGmmVIC"
      },
      "source": [
        "# Run the backend web server"
      ]
    },
    {
      "cell_type": "code",
      "source": [
        "!pip install pyngrok\n",
        "\n",
        "from threading import Thread\n",
        "from pyngrok import ngrok\n",
        "import time\n",
        "import sys\n",
        "import requests\n",
        "app_port = 8000\n",
        "update_url = 'http://revel.alfalabs.xyz/api/revel/imagenServer/set'\n",
        "\n",
        "def restart_ngrok():\n",
        "  # close existing bg processes\n",
        "  tunnels = ngrok.get_tunnels()\n",
        "  for tunnel in tunnels:\n",
        "    print('closing tunnel', tunnel.public_url)\n",
        "    ngrok.disconnect(tunnel.public_url)\n",
        "  ngcon = ngrok.connect(app_port)\n",
        "  puburl = ngcon.public_url\n",
        "  print('ngrok public_url\\n', puburl)\n",
        "  ngrok_process = ngrok.get_ngrok_process()\n",
        "  start = time.time()\n",
        "  json = {'url': puburl}\n",
        "  result = requests.post(update_url, json = json)\n",
        "  print(result.status_code, result.json())\n",
        "\n",
        "  try:\n",
        "    # Block until CTRL-C or some other terminating event\n",
        "    # time.sleep(10)\n",
        "    ngrok_process.proc.wait()\n",
        "  except KeyboardInterrupt:\n",
        "    print(\" Shutting down server.\")\n",
        "    ngrok.kill()\n",
        "  finally:\n",
        "    now = time.time()\n",
        "    uptime = round(now - start)\n",
        "    print(f'uptime {uptime}s')\n",
        "    print(f'uptime {round(100 * uptime/60) / 100} mins')\n",
        "\n",
        "# restart_ngrok() # test"
      ],
      "metadata": {
        "colab": {
          "base_uri": "https://localhost:8080/"
        },
        "id": "DOLEhTwFzEil",
        "outputId": "b04b4899-0aed-444d-a338-0bcecdb3904c"
      },
      "execution_count": 10,
      "outputs": [
        {
          "output_type": "stream",
          "name": "stdout",
          "text": [
            "Looking in indexes: https://pypi.org/simple, https://us-python.pkg.dev/colab-wheels/public/simple/\n",
            "Requirement already satisfied: pyngrok in /usr/local/lib/python3.7/dist-packages (5.1.0)\n",
            "Requirement already satisfied: PyYAML in /usr/local/lib/python3.7/dist-packages (from pyngrok) (6.0)\n",
            "closing tunnel https://2249-34-90-122-10.ngrok.io\n",
            "closing tunnel http://2249-34-90-122-10.ngrok.io\n",
            "ngrok public_url\n",
            " http://8316-34-90-122-10.ngrok.io\n",
            "200 {'ok': True, 'msg': 'updating server to: [http://8316-34-90-122-10.ngrok.io]'}\n",
            "uptime 10s\n",
            "uptime 0.17 mins\n"
          ]
        }
      ]
    },
    {
      "cell_type": "code",
      "execution_count": null,
      "metadata": {
        "id": "qrRYWN7qTioY",
        "outputId": "a7e65104-1243-4b3e-d68d-a62eea2b78f8",
        "colab": {
          "base_uri": "https://localhost:8080/"
        }
      },
      "outputs": [
        {
          "output_type": "stream",
          "name": "stdout",
          "text": [
            "Looking in indexes: https://pypi.org/simple, https://us-python.pkg.dev/colab-wheels/public/simple/\n",
            "Requirement already satisfied: pyngrok in /usr/local/lib/python3.7/dist-packages (5.1.0)\n",
            "Requirement already satisfied: PyYAML in /usr/local/lib/python3.7/dist-packages (from pyngrok) (6.0)\n",
            "dalle starting on 8000\n",
            "start thread\n",
            "Selected DALL-E Model - [Mega_full]\n",
            "--> Starting DALL-E Server. This might take up to two minutes.\n",
            "ngrok public_url\n",
            " NgrokTunnel: \"http://d4f8-34-140-222-85.ngrok.io\" -> \"http://localhost:8000\"\n",
            "tcmalloc: large alloc 10350092288 bytes == 0x7fe6b56f4000 @  0x7fead54c61e7 0x4a3940 0x5b438c 0x5ea94f 0x5939cb 0x594cd3 0x5d0ecb 0x59aeca 0x515655 0x549e0e 0x4bca8a 0x59c019 0x595ef6 0x5134a6 0x549e0e 0x593fce 0x548ae9 0x5127f1 0x4bc98a 0x532b86 0x594a96 0x515600 0x549576 0x604173 0x5f5506 0x5f8c6c 0x5f9206 0x64faf2 0x64fc4e 0x7fead50c3c87 0x5b621a\n",
            "--> DALL-E Server is up and running!\n",
            "--> Model selected - DALL-E ModelSize.MEGA_FULL\n",
            " * Serving Flask app 'app' (lazy loading)\n",
            " * Environment: production\n",
            "\u001b[31m   WARNING: This is a development server. Do not use it in a production deployment.\u001b[0m\n",
            "\u001b[2m   Use a production WSGI server instead.\u001b[0m\n",
            " * Debug mode: off\n",
            "INFO:werkzeug: * Running on all addresses (0.0.0.0)\n",
            "   WARNING: This is a development server. Do not use it in a production deployment.\n",
            " * Running on http://127.0.0.1:8000\n",
            " * Running on http://172.28.0.2:8000 (Press CTRL+C to quit)\n"
          ]
        }
      ],
      "source": [
        "\n",
        "def app():\n",
        "  print(f\"Selected DALL-E Model - [{dalle_model}]\")\n",
        "  !python dalle-playground/backend/app.py --port {app_port} --model_version {dalle_model} --save_to_disk true --img_format jpeg --output_dir generations\n",
        "  print(f'dalle starting on {app_port}')\n",
        "\n",
        "if __name__=='__main__':\n",
        "  print('start thread')\n",
        "  t1 = Thread(target = app)\n",
        "  a = t1.start()\n",
        "  # !lt --port {app_port}\n",
        "  restart_ngrok()  \n",
        "else:\n",
        "  print('not main')\n"
      ]
    },
    {
      "cell_type": "markdown",
      "metadata": {
        "id": "UPhc5fgqT_Q0"
      },
      "source": [
        "### Now, take the url you got from localtunnel (should look like `your url is: https://xxxxxx.loca.lt`), replace it within the url here https://saharmor.github.io/dalle-playground/?backendUrl=https://xxxxxx.loca.lt and run it in the browser. \n",
        "\n",
        "### Let the fun begin ✨"
      ]
    }
  ],
  "metadata": {
    "accelerator": "GPU",
    "colab": {
      "collapsed_sections": [],
      "machine_shape": "hm",
      "name": "DALL-E Playground Backend",
      "provenance": []
    },
    "kernelspec": {
      "display_name": "Python 3",
      "name": "python3"
    },
    "language_info": {
      "name": "python"
    }
  },
  "nbformat": 4,
  "nbformat_minor": 0
}