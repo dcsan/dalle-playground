{
  "cells": [
    {
      "cell_type": "markdown",
      "metadata": {
        "id": "view-in-github",
        "colab_type": "text"
      },
      "source": [
        "<a href=\"https://colab.research.google.com/github/dcsan/dalle-playground/blob/main/backend/dalle_playground_backend.ipynb\" target=\"_parent\"><img src=\"https://colab.research.google.com/assets/colab-badge.svg\" alt=\"Open In Colab\"/></a>"
      ]
    },
    {
      "cell_type": "markdown",
      "metadata": {
        "id": "118UKH5bWCGa"
      },
      "source": [
        "dc fork v12\n",
        "\n",
        "<center><img src=\"https://emojipedia-us.s3.dualstack.us-west-1.amazonaws.com/thumbs/240/apple/285/woman-artist_1f469-200d-1f3a8.png\" width=\"120\">\n",
        "</center>\n",
        "\n",
        "### <center>Use this notebook to run your DALL-E server</center>\n",
        "### <center> [DALL-E Playground Repository](https://github.com/saharmor/dalle-playground) </center>\n",
        "\n",
        "#####<center>This notebook is based on the amazing [DALL·E Mini](https://github.com/borisdayma/dalle-mini) by [Boris Dayma](https://github.com/borisdayma) et al.</center>"
      ]
    },
    {
      "cell_type": "markdown",
      "metadata": {
        "id": "dS8LbaonYm3a"
      },
      "source": [
        "## Install dependencies"
      ]
    },
    {
      "cell_type": "code",
      "execution_count": 1,
      "metadata": {
        "id": "MyO_o-lTQn2A",
        "outputId": "7fa5334f-2899-461a-e8c3-5b5de4f7b035",
        "colab": {
          "base_uri": "https://localhost:8080/"
        }
      },
      "outputs": [
        {
          "output_type": "stream",
          "name": "stdout",
          "text": [
            "sample_data\n",
            "Cloning into 'dalle-playground'...\n",
            "remote: Enumerating objects: 673, done.\u001b[K\n",
            "remote: Counting objects: 100% (673/673), done.\u001b[K\n",
            "remote: Compressing objects: 100% (280/280), done.\u001b[K\n",
            "remote: Total 673 (delta 417), reused 598 (delta 391), pack-reused 0\u001b[K\n",
            "Receiving objects: 100% (673/673), 1.55 MiB | 3.44 MiB/s, done.\n",
            "Resolving deltas: 100% (417/417), done.\n",
            "Looking in indexes: https://pypi.org/simple, https://us-python.pkg.dev/colab-wheels/public/simple/\n",
            "Collecting git+https://github.com/huggingface/transformers.git (from -r dalle-playground/backend/requirements.txt (line 5))\n",
            "  Cloning https://github.com/huggingface/transformers.git to /tmp/pip-req-build-ymxkclqp\n",
            "  Running command git clone -q https://github.com/huggingface/transformers.git /tmp/pip-req-build-ymxkclqp\n",
            "  Installing build dependencies ... \u001b[?25l\u001b[?25hdone\n",
            "  Getting requirements to build wheel ... \u001b[?25l\u001b[?25hdone\n",
            "    Preparing wheel metadata ... \u001b[?25l\u001b[?25hdone\n",
            "Collecting git+https://github.com/patil-suraj/vqgan-jax.git (from -r dalle-playground/backend/requirements.txt (line 6))\n",
            "  Cloning https://github.com/patil-suraj/vqgan-jax.git to /tmp/pip-req-build-499ks1sf\n",
            "  Running command git clone -q https://github.com/patil-suraj/vqgan-jax.git /tmp/pip-req-build-499ks1sf\n",
            "Collecting git+https://github.com/borisdayma/dalle-mini.git (from -r dalle-playground/backend/requirements.txt (line 7))\n",
            "  Cloning https://github.com/borisdayma/dalle-mini.git to /tmp/pip-req-build-4gjd8h84\n",
            "  Running command git clone -q https://github.com/borisdayma/dalle-mini.git /tmp/pip-req-build-4gjd8h84\n",
            "  Installing build dependencies ... \u001b[?25l\u001b[?25hdone\n",
            "  Getting requirements to build wheel ... \u001b[?25l\u001b[?25hdone\n",
            "    Preparing wheel metadata ... \u001b[?25l\u001b[?25hdone\n",
            "Collecting Flask==2.1.0\n",
            "  Downloading Flask-2.1.0-py3-none-any.whl (95 kB)\n",
            "\u001b[K     |████████████████████████████████| 95 kB 2.5 MB/s \n",
            "\u001b[?25hCollecting Flask-Cors==3.0.9\n",
            "  Downloading Flask_Cors-3.0.9-py2.py3-none-any.whl (14 kB)\n",
            "Collecting Flask-RESTful==0.3.8\n",
            "  Downloading Flask_RESTful-0.3.8-py2.py3-none-any.whl (25 kB)\n",
            "Collecting flax==0.5.0\n",
            "  Downloading flax-0.5.0-py3-none-any.whl (190 kB)\n",
            "\u001b[K     |████████████████████████████████| 190 kB 23.6 MB/s \n",
            "\u001b[?25hRequirement already satisfied: tqdm in /usr/local/lib/python3.7/dist-packages (from -r dalle-playground/backend/requirements.txt (line 8)) (4.64.0)\n",
            "Collecting wandb\n",
            "  Downloading wandb-0.12.21-py2.py3-none-any.whl (1.8 MB)\n",
            "\u001b[K     |████████████████████████████████| 1.8 MB 64.2 MB/s \n",
            "\u001b[?25hCollecting emoji\n",
            "  Downloading emoji-2.0.0.tar.gz (197 kB)\n",
            "\u001b[K     |████████████████████████████████| 197 kB 67.1 MB/s \n",
            "\u001b[?25hRequirement already satisfied: pillow in /usr/local/lib/python3.7/dist-packages (from dalle-mini==0.1.1->-r dalle-playground/backend/requirements.txt (line 7)) (7.1.2)\n",
            "Collecting ftfy\n",
            "  Downloading ftfy-6.1.1-py3-none-any.whl (53 kB)\n",
            "\u001b[K     |████████████████████████████████| 53 kB 1.9 MB/s \n",
            "\u001b[?25hCollecting unidecode\n",
            "  Downloading Unidecode-1.3.4-py3-none-any.whl (235 kB)\n",
            "\u001b[K     |████████████████████████████████| 235 kB 68.4 MB/s \n",
            "\u001b[?25hCollecting einops\n",
            "  Downloading einops-0.4.1-py3-none-any.whl (28 kB)\n",
            "Requirement already satisfied: jax in /usr/local/lib/python3.7/dist-packages (from dalle-mini==0.1.1->-r dalle-playground/backend/requirements.txt (line 7)) (0.3.14)\n",
            "Requirement already satisfied: regex!=2019.12.17 in /usr/local/lib/python3.7/dist-packages (from transformers==4.21.0.dev0->-r dalle-playground/backend/requirements.txt (line 5)) (2022.6.2)\n",
            "Requirement already satisfied: numpy>=1.17 in /usr/local/lib/python3.7/dist-packages (from transformers==4.21.0.dev0->-r dalle-playground/backend/requirements.txt (line 5)) (1.21.6)\n",
            "Requirement already satisfied: importlib-metadata in /usr/local/lib/python3.7/dist-packages (from transformers==4.21.0.dev0->-r dalle-playground/backend/requirements.txt (line 5)) (4.12.0)\n",
            "Requirement already satisfied: packaging>=20.0 in /usr/local/lib/python3.7/dist-packages (from transformers==4.21.0.dev0->-r dalle-playground/backend/requirements.txt (line 5)) (21.3)\n",
            "Collecting huggingface-hub<1.0,>=0.1.0\n",
            "  Downloading huggingface_hub-0.8.1-py3-none-any.whl (101 kB)\n",
            "\u001b[K     |████████████████████████████████| 101 kB 13.1 MB/s \n",
            "\u001b[?25hRequirement already satisfied: requests in /usr/local/lib/python3.7/dist-packages (from transformers==4.21.0.dev0->-r dalle-playground/backend/requirements.txt (line 5)) (2.23.0)\n",
            "Requirement already satisfied: filelock in /usr/local/lib/python3.7/dist-packages (from transformers==4.21.0.dev0->-r dalle-playground/backend/requirements.txt (line 5)) (3.7.1)\n",
            "Collecting tokenizers!=0.11.3,<0.13,>=0.11.1\n",
            "  Downloading tokenizers-0.12.1-cp37-cp37m-manylinux_2_12_x86_64.manylinux2010_x86_64.whl (6.6 MB)\n",
            "\u001b[K     |████████████████████████████████| 6.6 MB 27.8 MB/s \n",
            "\u001b[?25hCollecting pyyaml>=5.1\n",
            "  Downloading PyYAML-6.0-cp37-cp37m-manylinux_2_5_x86_64.manylinux1_x86_64.manylinux_2_12_x86_64.manylinux2010_x86_64.whl (596 kB)\n",
            "\u001b[K     |████████████████████████████████| 596 kB 64.2 MB/s \n",
            "\u001b[?25hCollecting itsdangerous>=2.0\n",
            "  Downloading itsdangerous-2.1.2-py3-none-any.whl (15 kB)\n",
            "Collecting Werkzeug>=2.0\n",
            "  Downloading Werkzeug-2.2.0-py3-none-any.whl (232 kB)\n",
            "\u001b[K     |████████████████████████████████| 232 kB 71.0 MB/s \n",
            "\u001b[?25hCollecting Jinja2>=3.0\n",
            "  Downloading Jinja2-3.1.2-py3-none-any.whl (133 kB)\n",
            "\u001b[K     |████████████████████████████████| 133 kB 70.7 MB/s \n",
            "\u001b[?25hCollecting click>=8.0\n",
            "  Downloading click-8.1.3-py3-none-any.whl (96 kB)\n",
            "\u001b[K     |████████████████████████████████| 96 kB 6.0 MB/s \n",
            "\u001b[?25hRequirement already satisfied: Six in /usr/local/lib/python3.7/dist-packages (from Flask-Cors==3.0.9->-r dalle-playground/backend/requirements.txt (line 2)) (1.15.0)\n",
            "Requirement already satisfied: pytz in /usr/local/lib/python3.7/dist-packages (from Flask-RESTful==0.3.8->-r dalle-playground/backend/requirements.txt (line 3)) (2022.1)\n",
            "Collecting aniso8601>=0.82\n",
            "  Downloading aniso8601-9.0.1-py2.py3-none-any.whl (52 kB)\n",
            "\u001b[K     |████████████████████████████████| 52 kB 1.5 MB/s \n",
            "\u001b[?25hRequirement already satisfied: matplotlib in /usr/local/lib/python3.7/dist-packages (from flax==0.5.0->-r dalle-playground/backend/requirements.txt (line 4)) (3.2.2)\n",
            "Requirement already satisfied: typing-extensions>=4.1.1 in /usr/local/lib/python3.7/dist-packages (from flax==0.5.0->-r dalle-playground/backend/requirements.txt (line 4)) (4.1.1)\n",
            "Collecting optax\n",
            "  Downloading optax-0.1.3-py3-none-any.whl (145 kB)\n",
            "\u001b[K     |████████████████████████████████| 145 kB 69.5 MB/s \n",
            "\u001b[?25hRequirement already satisfied: msgpack in /usr/local/lib/python3.7/dist-packages (from flax==0.5.0->-r dalle-playground/backend/requirements.txt (line 4)) (1.0.4)\n",
            "Requirement already satisfied: absl-py in /usr/local/lib/python3.7/dist-packages (from jax->dalle-mini==0.1.1->-r dalle-playground/backend/requirements.txt (line 7)) (1.2.0)\n",
            "Requirement already satisfied: opt-einsum in /usr/local/lib/python3.7/dist-packages (from jax->dalle-mini==0.1.1->-r dalle-playground/backend/requirements.txt (line 7)) (3.3.0)\n",
            "Requirement already satisfied: scipy>=1.5 in /usr/local/lib/python3.7/dist-packages (from jax->dalle-mini==0.1.1->-r dalle-playground/backend/requirements.txt (line 7)) (1.7.3)\n",
            "Requirement already satisfied: etils[epath] in /usr/local/lib/python3.7/dist-packages (from jax->dalle-mini==0.1.1->-r dalle-playground/backend/requirements.txt (line 7)) (0.6.0)\n",
            "Requirement already satisfied: MarkupSafe>=2.0 in /usr/local/lib/python3.7/dist-packages (from Jinja2>=3.0->Flask==2.1.0->-r dalle-playground/backend/requirements.txt (line 1)) (2.0.1)\n",
            "Requirement already satisfied: pyparsing!=3.0.5,>=2.0.2 in /usr/local/lib/python3.7/dist-packages (from packaging>=20.0->transformers==4.21.0.dev0->-r dalle-playground/backend/requirements.txt (line 5)) (3.0.9)\n",
            "Collecting MarkupSafe>=2.0\n",
            "  Downloading MarkupSafe-2.1.1-cp37-cp37m-manylinux_2_17_x86_64.manylinux2014_x86_64.whl (25 kB)\n",
            "Requirement already satisfied: zipp in /usr/local/lib/python3.7/dist-packages (from etils[epath]->jax->dalle-mini==0.1.1->-r dalle-playground/backend/requirements.txt (line 7)) (3.8.1)\n",
            "Requirement already satisfied: importlib_resources in /usr/local/lib/python3.7/dist-packages (from etils[epath]->jax->dalle-mini==0.1.1->-r dalle-playground/backend/requirements.txt (line 7)) (5.8.0)\n",
            "Requirement already satisfied: wcwidth>=0.2.5 in /usr/local/lib/python3.7/dist-packages (from ftfy->dalle-mini==0.1.1->-r dalle-playground/backend/requirements.txt (line 7)) (0.2.5)\n",
            "Requirement already satisfied: kiwisolver>=1.0.1 in /usr/local/lib/python3.7/dist-packages (from matplotlib->flax==0.5.0->-r dalle-playground/backend/requirements.txt (line 4)) (1.4.4)\n",
            "Requirement already satisfied: python-dateutil>=2.1 in /usr/local/lib/python3.7/dist-packages (from matplotlib->flax==0.5.0->-r dalle-playground/backend/requirements.txt (line 4)) (2.8.2)\n",
            "Requirement already satisfied: cycler>=0.10 in /usr/local/lib/python3.7/dist-packages (from matplotlib->flax==0.5.0->-r dalle-playground/backend/requirements.txt (line 4)) (0.11.0)\n",
            "Collecting chex>=0.0.4\n",
            "  Downloading chex-0.1.3-py3-none-any.whl (72 kB)\n",
            "\u001b[K     |████████████████████████████████| 72 kB 664 kB/s \n",
            "\u001b[?25hRequirement already satisfied: jaxlib>=0.1.37 in /usr/local/lib/python3.7/dist-packages (from optax->flax==0.5.0->-r dalle-playground/backend/requirements.txt (line 4)) (0.3.14+cuda11.cudnn805)\n",
            "Requirement already satisfied: dm-tree>=0.1.5 in /usr/local/lib/python3.7/dist-packages (from chex>=0.0.4->optax->flax==0.5.0->-r dalle-playground/backend/requirements.txt (line 4)) (0.1.7)\n",
            "Requirement already satisfied: toolz>=0.9.0 in /usr/local/lib/python3.7/dist-packages (from chex>=0.0.4->optax->flax==0.5.0->-r dalle-playground/backend/requirements.txt (line 4)) (0.12.0)\n",
            "Requirement already satisfied: flatbuffers<3.0,>=1.12 in /usr/local/lib/python3.7/dist-packages (from jaxlib>=0.1.37->optax->flax==0.5.0->-r dalle-playground/backend/requirements.txt (line 4)) (2.0)\n",
            "Requirement already satisfied: chardet<4,>=3.0.2 in /usr/local/lib/python3.7/dist-packages (from requests->transformers==4.21.0.dev0->-r dalle-playground/backend/requirements.txt (line 5)) (3.0.4)\n",
            "Requirement already satisfied: idna<3,>=2.5 in /usr/local/lib/python3.7/dist-packages (from requests->transformers==4.21.0.dev0->-r dalle-playground/backend/requirements.txt (line 5)) (2.10)\n",
            "Requirement already satisfied: urllib3!=1.25.0,!=1.25.1,<1.26,>=1.21.1 in /usr/local/lib/python3.7/dist-packages (from requests->transformers==4.21.0.dev0->-r dalle-playground/backend/requirements.txt (line 5)) (1.24.3)\n",
            "Requirement already satisfied: certifi>=2017.4.17 in /usr/local/lib/python3.7/dist-packages (from requests->transformers==4.21.0.dev0->-r dalle-playground/backend/requirements.txt (line 5)) (2022.6.15)\n",
            "Collecting GitPython>=1.0.0\n",
            "  Downloading GitPython-3.1.27-py3-none-any.whl (181 kB)\n",
            "\u001b[K     |████████████████████████████████| 181 kB 67.8 MB/s \n",
            "\u001b[?25hCollecting shortuuid>=0.5.0\n",
            "  Downloading shortuuid-1.0.9-py3-none-any.whl (9.4 kB)\n",
            "Requirement already satisfied: psutil>=5.0.0 in /usr/local/lib/python3.7/dist-packages (from wandb->dalle-mini==0.1.1->-r dalle-playground/backend/requirements.txt (line 7)) (5.4.8)\n",
            "Collecting pathtools\n",
            "  Downloading pathtools-0.1.2.tar.gz (11 kB)\n",
            "Requirement already satisfied: setuptools in /usr/local/lib/python3.7/dist-packages (from wandb->dalle-mini==0.1.1->-r dalle-playground/backend/requirements.txt (line 7)) (57.4.0)\n",
            "Collecting sentry-sdk>=1.0.0\n",
            "  Downloading sentry_sdk-1.8.0-py2.py3-none-any.whl (153 kB)\n",
            "\u001b[K     |████████████████████████████████| 153 kB 67.0 MB/s \n",
            "\u001b[?25hCollecting docker-pycreds>=0.4.0\n",
            "  Downloading docker_pycreds-0.4.0-py2.py3-none-any.whl (9.0 kB)\n",
            "Requirement already satisfied: protobuf<4.0dev,>=3.12.0 in /usr/local/lib/python3.7/dist-packages (from wandb->dalle-mini==0.1.1->-r dalle-playground/backend/requirements.txt (line 7)) (3.17.3)\n",
            "Collecting setproctitle\n",
            "  Downloading setproctitle-1.2.3-cp37-cp37m-manylinux_2_5_x86_64.manylinux1_x86_64.manylinux_2_17_x86_64.manylinux2014_x86_64.whl (29 kB)\n",
            "Requirement already satisfied: promise<3,>=2.0 in /usr/local/lib/python3.7/dist-packages (from wandb->dalle-mini==0.1.1->-r dalle-playground/backend/requirements.txt (line 7)) (2.3)\n",
            "Collecting gitdb<5,>=4.0.1\n",
            "  Downloading gitdb-4.0.9-py3-none-any.whl (63 kB)\n",
            "\u001b[K     |████████████████████████████████| 63 kB 1.8 MB/s \n",
            "\u001b[?25hCollecting smmap<6,>=3.0.1\n",
            "  Downloading smmap-5.0.0-py3-none-any.whl (24 kB)\n",
            "Building wheels for collected packages: dalle-mini, transformers, vqgan-jax, emoji, pathtools\n",
            "  Building wheel for dalle-mini (PEP 517) ... \u001b[?25l\u001b[?25hdone\n",
            "  Created wheel for dalle-mini: filename=dalle_mini-0.1.1-py3-none-any.whl size=34043 sha256=107ffdf88bf2e79e48e53378cbd96d1141db82f92a86966f9a4009c4380b0fd7\n",
            "  Stored in directory: /tmp/pip-ephem-wheel-cache-drc25c_r/wheels/53/51/31/c961cd55a812e7c33b2ff5c5306847d9a0de2e4c09678327c7\n",
            "  Building wheel for transformers (PEP 517) ... \u001b[?25l\u001b[?25hdone\n",
            "  Created wheel for transformers: filename=transformers-4.21.0.dev0-py3-none-any.whl size=4653216 sha256=e48c52baa33dd856de5295355d40432794fb05a2d89354a34a23f652fba07958\n",
            "  Stored in directory: /tmp/pip-ephem-wheel-cache-drc25c_r/wheels/90/a5/44/6bcd83827c8a60628c5ad602f429cd5076bcce5f2a90054947\n",
            "  Building wheel for vqgan-jax (setup.py) ... \u001b[?25l\u001b[?25hdone\n",
            "  Created wheel for vqgan-jax: filename=vqgan_jax-0.0.1-py3-none-any.whl size=7799 sha256=af9d1b8064045aee97af798dbdb2db7d8659a10f67a24ba5e58076ff27e8a9c8\n",
            "  Stored in directory: /tmp/pip-ephem-wheel-cache-drc25c_r/wheels/73/53/ff/7c4234bd407b172b569c6aca48c09c2ed5e25ff6c0dd7b6338\n",
            "  Building wheel for emoji (setup.py) ... \u001b[?25l\u001b[?25hdone\n",
            "  Created wheel for emoji: filename=emoji-2.0.0-py3-none-any.whl size=193022 sha256=9613ddfd1115f4ef7e638f5e6fa988ec11797ad87a51324ac4f8c52695016bc3\n",
            "  Stored in directory: /root/.cache/pip/wheels/ec/29/4d/3cfe7452ac7d8d83b1930f8a6205c3c9649b24e80f9029fc38\n",
            "  Building wheel for pathtools (setup.py) ... \u001b[?25l\u001b[?25hdone\n",
            "  Created wheel for pathtools: filename=pathtools-0.1.2-py3-none-any.whl size=8806 sha256=f5439018af640979fa8a77f41e03261d3d2ea28052639da2b084f5d72257fa0a\n",
            "  Stored in directory: /root/.cache/pip/wheels/3e/31/09/fa59cef12cdcfecc627b3d24273699f390e71828921b2cbba2\n",
            "Successfully built dalle-mini transformers vqgan-jax emoji pathtools\n",
            "Installing collected packages: smmap, pyyaml, MarkupSafe, gitdb, chex, Werkzeug, tokenizers, shortuuid, setproctitle, sentry-sdk, pathtools, optax, Jinja2, itsdangerous, huggingface-hub, GitPython, docker-pycreds, click, wandb, unidecode, transformers, ftfy, flax, Flask, emoji, einops, aniso8601, vqgan-jax, Flask-RESTful, Flask-Cors, dalle-mini\n",
            "  Attempting uninstall: pyyaml\n",
            "    Found existing installation: PyYAML 3.13\n",
            "    Uninstalling PyYAML-3.13:\n",
            "      Successfully uninstalled PyYAML-3.13\n",
            "  Attempting uninstall: MarkupSafe\n",
            "    Found existing installation: MarkupSafe 2.0.1\n",
            "    Uninstalling MarkupSafe-2.0.1:\n",
            "      Successfully uninstalled MarkupSafe-2.0.1\n",
            "  Attempting uninstall: Werkzeug\n",
            "    Found existing installation: Werkzeug 1.0.1\n",
            "    Uninstalling Werkzeug-1.0.1:\n",
            "      Successfully uninstalled Werkzeug-1.0.1\n",
            "  Attempting uninstall: Jinja2\n",
            "    Found existing installation: Jinja2 2.11.3\n",
            "    Uninstalling Jinja2-2.11.3:\n",
            "      Successfully uninstalled Jinja2-2.11.3\n",
            "  Attempting uninstall: itsdangerous\n",
            "    Found existing installation: itsdangerous 1.1.0\n",
            "    Uninstalling itsdangerous-1.1.0:\n",
            "      Successfully uninstalled itsdangerous-1.1.0\n",
            "  Attempting uninstall: click\n",
            "    Found existing installation: click 7.1.2\n",
            "    Uninstalling click-7.1.2:\n",
            "      Successfully uninstalled click-7.1.2\n",
            "  Attempting uninstall: Flask\n",
            "    Found existing installation: Flask 1.1.4\n",
            "    Uninstalling Flask-1.1.4:\n",
            "      Successfully uninstalled Flask-1.1.4\n",
            "\u001b[31mERROR: pip's dependency resolver does not currently take into account all the packages that are installed. This behaviour is the source of the following dependency conflicts.\n",
            "datascience 0.10.6 requires folium==0.2.1, but you have folium 0.8.3 which is incompatible.\u001b[0m\n",
            "Successfully installed Flask-2.1.0 Flask-Cors-3.0.9 Flask-RESTful-0.3.8 GitPython-3.1.27 Jinja2-3.1.2 MarkupSafe-2.1.1 Werkzeug-2.2.0 aniso8601-9.0.1 chex-0.1.3 click-8.1.3 dalle-mini-0.1.1 docker-pycreds-0.4.0 einops-0.4.1 emoji-2.0.0 flax-0.5.0 ftfy-6.1.1 gitdb-4.0.9 huggingface-hub-0.8.1 itsdangerous-2.1.2 optax-0.1.3 pathtools-0.1.2 pyyaml-6.0 sentry-sdk-1.8.0 setproctitle-1.2.3 shortuuid-1.0.9 smmap-5.0.0 tokenizers-0.12.1 transformers-4.21.0.dev0 unidecode-1.3.4 vqgan-jax-0.0.1 wandb-0.12.21\n"
          ]
        }
      ],
      "source": [
        "\n",
        "!ls\n",
        "![ ! -d 'dalle-playground' ] && git clone https://github.com/dcsan/dalle-playground.git && pip install -r dalle-playground/backend/requirements.txt\n",
        "!pip install pyngrok\n",
        "\n",
        "# only if we need to reset:\n",
        "# !rm -rf dalle-playground\n",
        "# !git clone https://github.com/dcsan/dalle-playground.git\n",
        "# !pip install -r dalle-playground/backend/requirements.txt\n",
        "# !npm install -g localtunnel\n"
      ]
    },
    {
      "cell_type": "markdown",
      "metadata": {
        "id": "itw9hJxfl1bJ"
      },
      "source": [
        "## Choose a model\n",
        "\n",
        "* **DALL-E Mini**\n",
        "  * The original DALL-E Mini. Fastest yet suboptimal results\n",
        "  * Runs well on a 4GB GPU and the Google Colab free tier\n",
        "* **DALL-E Mega**\n",
        "  * The advanced version of DALL-E Mini. Requires more compute and VRAM\n",
        "  * Runs well on a 8GB GPU and recommended on the Google Colab Pro tier\n",
        "* **DALL-E Mega Full**\n",
        "  * The most performant DALL-E version. Requires significantly more computre and VRAM\n",
        "  * Runs well on a 12GB GPU and recommended on the Google Colab Pro+ tier\n"
      ]
    },
    {
      "cell_type": "code",
      "source": [
        "# # get/install ngrok\n",
        "# !wget --no-check-certificate -nc https://bin.equinox.io/c/4VmDzA7iaHb/ngrok-stable-linux-amd64.zip\n",
        "# !wget --no-check-certificate -nc https://eyalgruss.com/fomm/ngrok-stable-linux-amd64.zip\n",
        "# !unzip -n ngrok-stable-linux-amd64.zip\n",
        "# !pkill -f ngrok\n",
        "# !nohup /content/ngrok http -region us -inspect=false $port &\n",
        "# !npm install -g localtunnel\n",
        "\n",
        "# !npm install -g npm\n",
        "\n",
        "# check we have a GPU\n",
        "!nvidia-smi\n"
      ],
      "metadata": {
        "id": "Hf_rVzOwoj1A",
        "outputId": "810bbbac-2d6e-4980-8fc0-d98c915e26d6",
        "colab": {
          "base_uri": "https://localhost:8080/"
        }
      },
      "execution_count": 2,
      "outputs": [
        {
          "output_type": "stream",
          "name": "stdout",
          "text": [
            "Sat Jul 23 23:46:12 2022       \n",
            "+-----------------------------------------------------------------------------+\n",
            "| NVIDIA-SMI 460.32.03    Driver Version: 460.32.03    CUDA Version: 11.2     |\n",
            "|-------------------------------+----------------------+----------------------+\n",
            "| GPU  Name        Persistence-M| Bus-Id        Disp.A | Volatile Uncorr. ECC |\n",
            "| Fan  Temp  Perf  Pwr:Usage/Cap|         Memory-Usage | GPU-Util  Compute M. |\n",
            "|                               |                      |               MIG M. |\n",
            "|===============================+======================+======================|\n",
            "|   0  Tesla V100-SXM2...  Off  | 00000000:00:04.0 Off |                    0 |\n",
            "| N/A   35C    P0    25W / 300W |      0MiB / 16160MiB |      0%      Default |\n",
            "|                               |                      |                  N/A |\n",
            "+-------------------------------+----------------------+----------------------+\n",
            "                                                                               \n",
            "+-----------------------------------------------------------------------------+\n",
            "| Processes:                                                                  |\n",
            "|  GPU   GI   CI        PID   Type   Process name                  GPU Memory |\n",
            "|        ID   ID                                                   Usage      |\n",
            "|=============================================================================|\n",
            "|  No running processes found                                                 |\n",
            "+-----------------------------------------------------------------------------+\n"
          ]
        }
      ]
    },
    {
      "cell_type": "code",
      "source": [
        ""
      ],
      "metadata": {
        "id": "VrsbQ1UT4QmL"
      },
      "execution_count": 2,
      "outputs": []
    },
    {
      "cell_type": "code",
      "execution_count": 3,
      "metadata": {
        "id": "BKmwZUHcl1bK"
      },
      "outputs": [],
      "source": [
        "#@title Select a model - remember to execute cell after selecting!\n",
        "\n",
        "dalle_model = 'Mega' #@param [\"Mini\", \"Mega\", \"Mega_full\"]"
      ]
    },
    {
      "cell_type": "markdown",
      "metadata": {
        "id": "sqF_iNGmmVIC"
      },
      "source": [
        "# Start the tunnel"
      ]
    },
    {
      "cell_type": "code",
      "source": [
        "from threading import Thread\n",
        "from pyngrok import ngrok\n",
        "import time\n",
        "import sys\n",
        "import requests\n",
        "app_port = 8000\n",
        "update_url = 'http://revel.alfalabs.xyz/api/revel/imagenServer/set'\n",
        "ngrok.set_auth_token(\"2CJlmTjS9dlNZJEhhrNsrKsgZGj_bHfQrwsRE4AxLodRWmGa\")\n",
        "# 2BGQ9byQL3Cjbfo7d2buDy7cgz9_3NMQJGVGQhcQZDptuXQND\n",
        "\n",
        "\n",
        "def stop_ngrok():\n",
        "  print('stopping ngrok')\n",
        "  tunnels = ngrok.get_tunnels()\n",
        "  for tunnel in tunnels:\n",
        "    print('closing tunnel', tunnel.public_url)\n",
        "    ngrok.disconnect(tunnel.public_url)\n",
        "\n",
        "def restart_ngrok():\n",
        "  # close existing bg processes\n",
        "  # free token\n",
        "  stop_ngrok()\n",
        "  ngcon = ngrok.connect(app_port)\n",
        "  puburl = ngcon.public_url\n",
        "  print('ngrok public_url\\n', puburl)\n",
        "  ngrok_process = ngrok.get_ngrok_process()\n",
        "  start = time.time()\n",
        "  json = {'url': puburl}\n",
        "  result = requests.post(update_url, json = json)\n",
        "  print(result.status_code, result.json())\n",
        "\n",
        "  try:\n",
        "    # Block until CTRL-C or some other terminating event\n",
        "    # time.sleep(10)\n",
        "    ngrok_process.proc.wait()\n",
        "  except KeyboardInterrupt:\n",
        "    print(\" Shutting down server\")\n",
        "    ngrok.kill()\n",
        "  finally:\n",
        "    now = time.time()\n",
        "    uptime = round(now - start)\n",
        "    print(f'uptime {uptime}s')\n",
        "    print(f'uptime {round(100 * uptime/60) / 100} mins')\n",
        "\n",
        "# restart_ngrok() # test\n",
        "stop_ngrok()"
      ],
      "metadata": {
        "id": "DOLEhTwFzEil",
        "outputId": "c07c4e65-1781-4e83-dd6e-aff0c136df44",
        "colab": {
          "base_uri": "https://localhost:8080/"
        }
      },
      "execution_count": 8,
      "outputs": [
        {
          "output_type": "stream",
          "name": "stdout",
          "text": [
            "stopping ngrok\n"
          ]
        }
      ]
    },
    {
      "cell_type": "code",
      "execution_count": null,
      "metadata": {
        "id": "qrRYWN7qTioY",
        "outputId": "2d8a0325-b1fa-4289-e34b-289b1091f698",
        "colab": {
          "base_uri": "https://localhost:8080/"
        }
      },
      "outputs": [
        {
          "output_type": "stream",
          "name": "stdout",
          "text": [
            "start thread\n",
            "Selected DALL-E Model - [Mega]stopping ngrok\n",
            "\n",
            "ngrok public_url\n",
            " http://6da2-34-80-201-136.ngrok.io\n",
            "--> Starting DALL-E Server. This might take up to two minutes.\n",
            "200 {'ok': True, 'msg': 'updating AiGen server to: `[http://6da2-34-80-201-136.ngrok.io]`'}\n"
          ]
        }
      ],
      "source": [
        "def app():\n",
        "  print(f\"Selected DALL-E Model - [{dalle_model}]\")\n",
        "  !python dalle-playground/backend/app.py --port {app_port} --model_version {dalle_model} --save_to_disk true --img_format jpeg --output_dir generations\n",
        "  print(f'dalle starting on {app_port}')\n",
        "\n",
        "\n",
        "# def warmup():\n",
        "#   check = requests.get('http://127.0.0.1:8000')\n",
        "#   print('check', check)\n",
        "#   try:\n",
        "#     # Block until CTRL-C or some other terminating event\n",
        "#     time.sleep(10)\n",
        "#     # ngrok_process.proc.wait()\n",
        "#   except KeyboardInterrupt:\n",
        "#     print(\" Shutting down server\")\n",
        "#     ngrok.kill()\n",
        "#   finally:\n",
        "#     print('complete')\n",
        "\n",
        "if __name__=='__main__':\n",
        "  print('start thread')\n",
        "  t1 = Thread(target = app)\n",
        "  a = t1.start()\n",
        "  # warmup()\n",
        "  # !lt --port {app_port}\n",
        "  restart_ngrok()\n",
        "  # app()\n",
        "  # warmup()\n",
        "\n",
        "else:\n",
        "  print('not main')\n"
      ]
    },
    {
      "cell_type": "code",
      "source": [
        "print(\"HI\")"
      ],
      "metadata": {
        "id": "dtfxMdQZy_WV"
      },
      "execution_count": null,
      "outputs": []
    },
    {
      "cell_type": "markdown",
      "metadata": {
        "id": "UPhc5fgqT_Q0"
      },
      "source": [
        "## Now use the updated URL\n",
        "for the main application\n",
        "\n",
        "it should look like this:\n",
        "\n",
        "```\n",
        "ngrok public_url\n",
        " http://xxxx-12-34-567-89.ngrok.io\n",
        "```\n",
        "\n",
        "## 🎉 Let the fun begin ✨\n"
      ]
    }
  ],
  "metadata": {
    "accelerator": "GPU",
    "colab": {
      "collapsed_sections": [],
      "name": "DALL-E Playground Backend",
      "provenance": [],
      "background_execution": "on",
      "include_colab_link": true
    },
    "kernelspec": {
      "display_name": "Python 3",
      "name": "python3"
    },
    "language_info": {
      "name": "python"
    },
    "gpuClass": "standard"
  },
  "nbformat": 4,
  "nbformat_minor": 0
}