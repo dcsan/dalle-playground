{
  "cells": [
    {
      "cell_type": "markdown",
      "metadata": {
        "id": "118UKH5bWCGa"
      },
      "source": [
        "<center><img src=\"https://emojipedia-us.s3.dualstack.us-west-1.amazonaws.com/thumbs/240/apple/285/woman-artist_1f469-200d-1f3a8.png\" width=\"120\">\n",
        "</center>\n",
        "\n",
        "### <center>Use this notebook to run your DALL-E server</center>\n",
        "### <center> [DALL-E Playground Repository](https://github.com/saharmor/dalle-playground) </center>\n",
        "\n",
        "#####<center>This notebook is based on the amazing [DALL·E Mini](https://github.com/borisdayma/dalle-mini) by [Boris Dayma](https://github.com/borisdayma) et al.</center>"
      ]
    },
    {
      "cell_type": "markdown",
      "metadata": {
        "id": "dS8LbaonYm3a"
      },
      "source": [
        "## Install dependencies"
      ]
    },
    {
      "cell_type": "code",
      "execution_count": 13,
      "metadata": {
        "id": "MyO_o-lTQn2A",
        "outputId": "33672f9a-6bc2-4d76-e1b2-3817ebb3d45a",
        "colab": {
          "base_uri": "https://localhost:8080/"
        }
      },
      "outputs": [
        {
          "output_type": "stream",
          "name": "stdout",
          "text": [
            "fatal: destination path 'dalle-playground' already exists and is not an empty directory.\n",
            "Looking in indexes: https://pypi.org/simple, https://us-python.pkg.dev/colab-wheels/public/simple/\n",
            "Collecting git+https://github.com/huggingface/transformers.git (from -r dalle-playground/backend/requirements.txt (line 5))\n",
            "  Cloning https://github.com/huggingface/transformers.git to /tmp/pip-req-build-yr7jw3ym\n",
            "  Running command git clone -q https://github.com/huggingface/transformers.git /tmp/pip-req-build-yr7jw3ym\n",
            "  Installing build dependencies ... \u001b[?25l\u001b[?25hdone\n",
            "  Getting requirements to build wheel ... \u001b[?25l\u001b[?25hdone\n",
            "    Preparing wheel metadata ... \u001b[?25l\u001b[?25hdone\n",
            "Collecting git+https://github.com/patil-suraj/vqgan-jax.git (from -r dalle-playground/backend/requirements.txt (line 6))\n",
            "  Cloning https://github.com/patil-suraj/vqgan-jax.git to /tmp/pip-req-build-pk6gpipn\n",
            "  Running command git clone -q https://github.com/patil-suraj/vqgan-jax.git /tmp/pip-req-build-pk6gpipn\n",
            "Collecting git+https://github.com/borisdayma/dalle-mini.git (from -r dalle-playground/backend/requirements.txt (line 7))\n",
            "  Cloning https://github.com/borisdayma/dalle-mini.git to /tmp/pip-req-build-hq7m9o1m\n",
            "  Running command git clone -q https://github.com/borisdayma/dalle-mini.git /tmp/pip-req-build-hq7m9o1m\n",
            "  Installing build dependencies ... \u001b[?25l\u001b[?25hdone\n",
            "  Getting requirements to build wheel ... \u001b[?25l\u001b[?25hdone\n",
            "    Preparing wheel metadata ... \u001b[?25l\u001b[?25hdone\n",
            "Requirement already satisfied: Flask==2.1.0 in /usr/local/lib/python3.7/dist-packages (from -r dalle-playground/backend/requirements.txt (line 1)) (2.1.0)\n",
            "Requirement already satisfied: Flask-Cors==3.0.9 in /usr/local/lib/python3.7/dist-packages (from -r dalle-playground/backend/requirements.txt (line 2)) (3.0.9)\n",
            "Requirement already satisfied: Flask-RESTful==0.3.8 in /usr/local/lib/python3.7/dist-packages (from -r dalle-playground/backend/requirements.txt (line 3)) (0.3.8)\n",
            "Requirement already satisfied: flax==0.5.0 in /usr/local/lib/python3.7/dist-packages (from -r dalle-playground/backend/requirements.txt (line 4)) (0.5.0)\n",
            "Requirement already satisfied: tqdm in /usr/local/lib/python3.7/dist-packages (from -r dalle-playground/backend/requirements.txt (line 8)) (4.64.0)\n",
            "Requirement already satisfied: emoji in /usr/local/lib/python3.7/dist-packages (from dalle-mini==0.1.1->-r dalle-playground/backend/requirements.txt (line 7)) (1.7.0)\n",
            "Requirement already satisfied: unidecode in /usr/local/lib/python3.7/dist-packages (from dalle-mini==0.1.1->-r dalle-playground/backend/requirements.txt (line 7)) (1.3.4)\n",
            "Requirement already satisfied: pillow in /usr/local/lib/python3.7/dist-packages (from dalle-mini==0.1.1->-r dalle-playground/backend/requirements.txt (line 7)) (7.1.2)\n",
            "Requirement already satisfied: jax in /usr/local/lib/python3.7/dist-packages (from dalle-mini==0.1.1->-r dalle-playground/backend/requirements.txt (line 7)) (0.3.8)\n",
            "Requirement already satisfied: einops in /usr/local/lib/python3.7/dist-packages (from dalle-mini==0.1.1->-r dalle-playground/backend/requirements.txt (line 7)) (0.4.1)\n",
            "Requirement already satisfied: ftfy in /usr/local/lib/python3.7/dist-packages (from dalle-mini==0.1.1->-r dalle-playground/backend/requirements.txt (line 7)) (6.1.1)\n",
            "Requirement already satisfied: wandb in /usr/local/lib/python3.7/dist-packages (from dalle-mini==0.1.1->-r dalle-playground/backend/requirements.txt (line 7)) (0.12.19)\n",
            "Requirement already satisfied: requests in /usr/local/lib/python3.7/dist-packages (from transformers==4.21.0.dev0->-r dalle-playground/backend/requirements.txt (line 5)) (2.23.0)\n",
            "Requirement already satisfied: packaging>=20.0 in /usr/local/lib/python3.7/dist-packages (from transformers==4.21.0.dev0->-r dalle-playground/backend/requirements.txt (line 5)) (21.3)\n",
            "Requirement already satisfied: pyyaml>=5.1 in /usr/local/lib/python3.7/dist-packages (from transformers==4.21.0.dev0->-r dalle-playground/backend/requirements.txt (line 5)) (6.0)\n",
            "Requirement already satisfied: regex!=2019.12.17 in /usr/local/lib/python3.7/dist-packages (from transformers==4.21.0.dev0->-r dalle-playground/backend/requirements.txt (line 5)) (2022.6.2)\n",
            "Requirement already satisfied: filelock in /usr/local/lib/python3.7/dist-packages (from transformers==4.21.0.dev0->-r dalle-playground/backend/requirements.txt (line 5)) (3.7.1)\n",
            "Requirement already satisfied: huggingface-hub<1.0,>=0.1.0 in /usr/local/lib/python3.7/dist-packages (from transformers==4.21.0.dev0->-r dalle-playground/backend/requirements.txt (line 5)) (0.8.1)\n",
            "Requirement already satisfied: importlib-metadata in /usr/local/lib/python3.7/dist-packages (from transformers==4.21.0.dev0->-r dalle-playground/backend/requirements.txt (line 5)) (4.11.4)\n",
            "Requirement already satisfied: tokenizers!=0.11.3,<0.13,>=0.11.1 in /usr/local/lib/python3.7/dist-packages (from transformers==4.21.0.dev0->-r dalle-playground/backend/requirements.txt (line 5)) (0.12.1)\n",
            "Requirement already satisfied: numpy>=1.17 in /usr/local/lib/python3.7/dist-packages (from transformers==4.21.0.dev0->-r dalle-playground/backend/requirements.txt (line 5)) (1.21.6)\n",
            "Requirement already satisfied: Werkzeug>=2.0 in /usr/local/lib/python3.7/dist-packages (from Flask==2.1.0->-r dalle-playground/backend/requirements.txt (line 1)) (2.1.2)\n",
            "Requirement already satisfied: Jinja2>=3.0 in /usr/local/lib/python3.7/dist-packages (from Flask==2.1.0->-r dalle-playground/backend/requirements.txt (line 1)) (3.1.2)\n",
            "Requirement already satisfied: click>=8.0 in /usr/local/lib/python3.7/dist-packages (from Flask==2.1.0->-r dalle-playground/backend/requirements.txt (line 1)) (8.1.3)\n",
            "Requirement already satisfied: itsdangerous>=2.0 in /usr/local/lib/python3.7/dist-packages (from Flask==2.1.0->-r dalle-playground/backend/requirements.txt (line 1)) (2.1.2)\n",
            "Requirement already satisfied: Six in /usr/local/lib/python3.7/dist-packages (from Flask-Cors==3.0.9->-r dalle-playground/backend/requirements.txt (line 2)) (1.15.0)\n",
            "Requirement already satisfied: pytz in /usr/local/lib/python3.7/dist-packages (from Flask-RESTful==0.3.8->-r dalle-playground/backend/requirements.txt (line 3)) (2022.1)\n",
            "Requirement already satisfied: aniso8601>=0.82 in /usr/local/lib/python3.7/dist-packages (from Flask-RESTful==0.3.8->-r dalle-playground/backend/requirements.txt (line 3)) (9.0.1)\n",
            "Requirement already satisfied: msgpack in /usr/local/lib/python3.7/dist-packages (from flax==0.5.0->-r dalle-playground/backend/requirements.txt (line 4)) (1.0.4)\n",
            "Requirement already satisfied: matplotlib in /usr/local/lib/python3.7/dist-packages (from flax==0.5.0->-r dalle-playground/backend/requirements.txt (line 4)) (3.2.2)\n",
            "Requirement already satisfied: typing-extensions>=4.1.1 in /usr/local/lib/python3.7/dist-packages (from flax==0.5.0->-r dalle-playground/backend/requirements.txt (line 4)) (4.1.1)\n",
            "Requirement already satisfied: optax in /usr/local/lib/python3.7/dist-packages (from flax==0.5.0->-r dalle-playground/backend/requirements.txt (line 4)) (0.1.2)\n",
            "Requirement already satisfied: absl-py in /usr/local/lib/python3.7/dist-packages (from jax->dalle-mini==0.1.1->-r dalle-playground/backend/requirements.txt (line 7)) (1.1.0)\n",
            "Requirement already satisfied: scipy>=1.2.1 in /usr/local/lib/python3.7/dist-packages (from jax->dalle-mini==0.1.1->-r dalle-playground/backend/requirements.txt (line 7)) (1.4.1)\n",
            "Requirement already satisfied: opt-einsum in /usr/local/lib/python3.7/dist-packages (from jax->dalle-mini==0.1.1->-r dalle-playground/backend/requirements.txt (line 7)) (3.3.0)\n",
            "Requirement already satisfied: MarkupSafe>=2.0 in /usr/local/lib/python3.7/dist-packages (from Jinja2>=3.0->Flask==2.1.0->-r dalle-playground/backend/requirements.txt (line 1)) (2.0.1)\n",
            "Requirement already satisfied: pyparsing!=3.0.5,>=2.0.2 in /usr/local/lib/python3.7/dist-packages (from packaging>=20.0->transformers==4.21.0.dev0->-r dalle-playground/backend/requirements.txt (line 5)) (3.0.9)\n",
            "Requirement already satisfied: wcwidth>=0.2.5 in /usr/local/lib/python3.7/dist-packages (from ftfy->dalle-mini==0.1.1->-r dalle-playground/backend/requirements.txt (line 7)) (0.2.5)\n",
            "Requirement already satisfied: zipp>=0.5 in /usr/local/lib/python3.7/dist-packages (from importlib-metadata->transformers==4.21.0.dev0->-r dalle-playground/backend/requirements.txt (line 5)) (3.8.0)\n",
            "Requirement already satisfied: python-dateutil>=2.1 in /usr/local/lib/python3.7/dist-packages (from matplotlib->flax==0.5.0->-r dalle-playground/backend/requirements.txt (line 4)) (2.8.2)\n",
            "Requirement already satisfied: kiwisolver>=1.0.1 in /usr/local/lib/python3.7/dist-packages (from matplotlib->flax==0.5.0->-r dalle-playground/backend/requirements.txt (line 4)) (1.4.3)\n",
            "Requirement already satisfied: cycler>=0.10 in /usr/local/lib/python3.7/dist-packages (from matplotlib->flax==0.5.0->-r dalle-playground/backend/requirements.txt (line 4)) (0.11.0)\n",
            "Requirement already satisfied: chex>=0.0.4 in /usr/local/lib/python3.7/dist-packages (from optax->flax==0.5.0->-r dalle-playground/backend/requirements.txt (line 4)) (0.1.3)\n",
            "Requirement already satisfied: jaxlib>=0.1.37 in /usr/local/lib/python3.7/dist-packages (from optax->flax==0.5.0->-r dalle-playground/backend/requirements.txt (line 4)) (0.3.7+cuda11.cudnn805)\n",
            "Requirement already satisfied: toolz>=0.9.0 in /usr/local/lib/python3.7/dist-packages (from chex>=0.0.4->optax->flax==0.5.0->-r dalle-playground/backend/requirements.txt (line 4)) (0.11.2)\n",
            "Requirement already satisfied: dm-tree>=0.1.5 in /usr/local/lib/python3.7/dist-packages (from chex>=0.0.4->optax->flax==0.5.0->-r dalle-playground/backend/requirements.txt (line 4)) (0.1.7)\n",
            "Requirement already satisfied: flatbuffers<3.0,>=1.12 in /usr/local/lib/python3.7/dist-packages (from jaxlib>=0.1.37->optax->flax==0.5.0->-r dalle-playground/backend/requirements.txt (line 4)) (2.0)\n",
            "Requirement already satisfied: urllib3!=1.25.0,!=1.25.1,<1.26,>=1.21.1 in /usr/local/lib/python3.7/dist-packages (from requests->transformers==4.21.0.dev0->-r dalle-playground/backend/requirements.txt (line 5)) (1.24.3)\n",
            "Requirement already satisfied: idna<3,>=2.5 in /usr/local/lib/python3.7/dist-packages (from requests->transformers==4.21.0.dev0->-r dalle-playground/backend/requirements.txt (line 5)) (2.10)\n",
            "Requirement already satisfied: certifi>=2017.4.17 in /usr/local/lib/python3.7/dist-packages (from requests->transformers==4.21.0.dev0->-r dalle-playground/backend/requirements.txt (line 5)) (2022.6.15)\n",
            "Requirement already satisfied: chardet<4,>=3.0.2 in /usr/local/lib/python3.7/dist-packages (from requests->transformers==4.21.0.dev0->-r dalle-playground/backend/requirements.txt (line 5)) (3.0.4)\n",
            "Requirement already satisfied: docker-pycreds>=0.4.0 in /usr/local/lib/python3.7/dist-packages (from wandb->dalle-mini==0.1.1->-r dalle-playground/backend/requirements.txt (line 7)) (0.4.0)\n",
            "Requirement already satisfied: psutil>=5.0.0 in /usr/local/lib/python3.7/dist-packages (from wandb->dalle-mini==0.1.1->-r dalle-playground/backend/requirements.txt (line 7)) (5.4.8)\n",
            "Requirement already satisfied: GitPython>=1.0.0 in /usr/local/lib/python3.7/dist-packages (from wandb->dalle-mini==0.1.1->-r dalle-playground/backend/requirements.txt (line 7)) (3.1.27)\n",
            "Requirement already satisfied: pathtools in /usr/local/lib/python3.7/dist-packages (from wandb->dalle-mini==0.1.1->-r dalle-playground/backend/requirements.txt (line 7)) (0.1.2)\n",
            "Requirement already satisfied: setuptools in /usr/local/lib/python3.7/dist-packages (from wandb->dalle-mini==0.1.1->-r dalle-playground/backend/requirements.txt (line 7)) (57.4.0)\n",
            "Requirement already satisfied: sentry-sdk>=1.0.0 in /usr/local/lib/python3.7/dist-packages (from wandb->dalle-mini==0.1.1->-r dalle-playground/backend/requirements.txt (line 7)) (1.6.0)\n",
            "Requirement already satisfied: promise<3,>=2.0 in /usr/local/lib/python3.7/dist-packages (from wandb->dalle-mini==0.1.1->-r dalle-playground/backend/requirements.txt (line 7)) (2.3)\n",
            "Requirement already satisfied: setproctitle in /usr/local/lib/python3.7/dist-packages (from wandb->dalle-mini==0.1.1->-r dalle-playground/backend/requirements.txt (line 7)) (1.2.3)\n",
            "Requirement already satisfied: shortuuid>=0.5.0 in /usr/local/lib/python3.7/dist-packages (from wandb->dalle-mini==0.1.1->-r dalle-playground/backend/requirements.txt (line 7)) (1.0.9)\n",
            "Requirement already satisfied: protobuf<4.0dev,>=3.12.0 in /usr/local/lib/python3.7/dist-packages (from wandb->dalle-mini==0.1.1->-r dalle-playground/backend/requirements.txt (line 7)) (3.17.3)\n",
            "Requirement already satisfied: gitdb<5,>=4.0.1 in /usr/local/lib/python3.7/dist-packages (from GitPython>=1.0.0->wandb->dalle-mini==0.1.1->-r dalle-playground/backend/requirements.txt (line 7)) (4.0.9)\n",
            "Requirement already satisfied: smmap<6,>=3.0.1 in /usr/local/lib/python3.7/dist-packages (from gitdb<5,>=4.0.1->GitPython>=1.0.0->wandb->dalle-mini==0.1.1->-r dalle-playground/backend/requirements.txt (line 7)) (5.0.0)\n"
          ]
        }
      ],
      "source": [
        "# only if we need to reset:\n",
        "# !rm -rf dalle-playground\n",
        "!git clone https://github.com/dcsan/dalle-playground.git\n",
        "!pip install -r dalle-playground/backend/requirements.txt\n",
        "# !npm install -g localtunnel\n"
      ]
    },
    {
      "cell_type": "markdown",
      "metadata": {
        "id": "itw9hJxfl1bJ"
      },
      "source": [
        "## Choose a model\n",
        "\n",
        "* **DALL-E Mini**\n",
        "  * The original DALL-E Mini. Fastest yet suboptimal results\n",
        "  * Runs well on a 4GB GPU and the Google Colab free tier\n",
        "* **DALL-E Mega**\n",
        "  * The advanced version of DALL-E Mini. Requires more compute and VRAM\n",
        "  * Runs well on a 8GB GPU and recommended on the Google Colab Pro tier\n",
        "* **DALL-E Mega Full**\n",
        "  * The most performant DALL-E version. Requires significantly more computre and VRAM\n",
        "  * Runs well on a 12GB GPU and recommended on the Google Colab Pro+ tier\n"
      ]
    },
    {
      "cell_type": "code",
      "source": [
        "# # get/install ngrok\n",
        "# !wget --no-check-certificate -nc https://bin.equinox.io/c/4VmDzA7iaHb/ngrok-stable-linux-amd64.zip\n",
        "# !wget --no-check-certificate -nc https://eyalgruss.com/fomm/ngrok-stable-linux-amd64.zip\n",
        "# !unzip -n ngrok-stable-linux-amd64.zip\n",
        "# !pkill -f ngrok\n",
        "# !nohup /content/ngrok http -region us -inspect=false $port &\n",
        "# !npm install -g localtunnel\n",
        "\n",
        "# !npm install -g npm\n",
        "\n",
        "# check we have a GPU\n",
        "!nvidia-smi\n"
      ],
      "metadata": {
        "colab": {
          "base_uri": "https://localhost:8080/"
        },
        "id": "Hf_rVzOwoj1A",
        "outputId": "88d5aea8-6ef3-47c9-e1e0-8fac6c2dd662"
      },
      "execution_count": 14,
      "outputs": [
        {
          "output_type": "stream",
          "name": "stdout",
          "text": [
            "\u001b[K\u001b[?25h\n",
            "changed 14 packages, and audited 202 packages in 2s\n",
            "\n",
            "11 packages are looking for funding\n",
            "  run `npm fund` for details\n",
            "\n",
            "found \u001b[32m\u001b[1m0\u001b[22m\u001b[39m vulnerabilities\n",
            "Fri Jun 24 13:09:19 2022       \n",
            "+-----------------------------------------------------------------------------+\n",
            "| NVIDIA-SMI 460.32.03    Driver Version: 460.32.03    CUDA Version: 11.2     |\n",
            "|-------------------------------+----------------------+----------------------+\n",
            "| GPU  Name        Persistence-M| Bus-Id        Disp.A | Volatile Uncorr. ECC |\n",
            "| Fan  Temp  Perf  Pwr:Usage/Cap|         Memory-Usage | GPU-Util  Compute M. |\n",
            "|                               |                      |               MIG M. |\n",
            "|===============================+======================+======================|\n",
            "|   0  Tesla P100-PCIE...  Off  | 00000000:00:04.0 Off |                    0 |\n",
            "| N/A   36C    P0    26W / 250W |      0MiB / 16280MiB |      0%      Default |\n",
            "|                               |                      |                  N/A |\n",
            "+-------------------------------+----------------------+----------------------+\n",
            "                                                                               \n",
            "+-----------------------------------------------------------------------------+\n",
            "| Processes:                                                                  |\n",
            "|  GPU   GI   CI        PID   Type   Process name                  GPU Memory |\n",
            "|        ID   ID                                                   Usage      |\n",
            "|=============================================================================|\n",
            "|  No running processes found                                                 |\n",
            "+-----------------------------------------------------------------------------+\n",
            "Looking in indexes: https://pypi.org/simple, https://us-python.pkg.dev/colab-wheels/public/simple/\n",
            "Requirement already satisfied: pyngrok in /usr/local/lib/python3.7/dist-packages (5.1.0)\n",
            "Requirement already satisfied: PyYAML in /usr/local/lib/python3.7/dist-packages (from pyngrok) (6.0)\n"
          ]
        }
      ]
    },
    {
      "cell_type": "code",
      "execution_count": 15,
      "metadata": {
        "id": "BKmwZUHcl1bK"
      },
      "outputs": [],
      "source": [
        "#@title Select a model - remember to execute cell after selecting!\n",
        "\n",
        "dalle_model = 'Mega_full' #@param [\"Mini\", \"Mega\", \"Mega_full\"]"
      ]
    },
    {
      "cell_type": "markdown",
      "metadata": {
        "id": "sqF_iNGmmVIC"
      },
      "source": [
        "# Run the backend web server"
      ]
    },
    {
      "cell_type": "code",
      "source": [
        "!pip install pyngrok\n",
        "\n",
        "from threading import Thread\n",
        "from pyngrok import ngrok\n",
        "import time\n",
        "import sys\n",
        "import requests\n",
        "app_port = 8000\n",
        "update_url = 'http://revel.alfalabs.xyz/api/revel/imagenServer/set'\n",
        "\n",
        "def restart_ngrok():\n",
        "  # close existing bg processes\n",
        "  tunnels = ngrok.get_tunnels()\n",
        "  for tunnel in tunnels:\n",
        "    print('closing tunnel', tunnel.public_url)\n",
        "    ngrok.disconnect(tunnel.public_url)\n",
        "  # free token\n",
        "  ngrok.set_auth_token(\"2B22jRiuHD49bVL6PCGoTdyswXV_3WGVzsg68cnDQWmBUgsSe\")\n",
        "  ngcon = ngrok.connect(app_port)\n",
        "  puburl = ngcon.public_url\n",
        "  print('ngrok public_url\\n', puburl)\n",
        "  ngrok_process = ngrok.get_ngrok_process()\n",
        "  start = time.time()\n",
        "  json = {'url': puburl}\n",
        "  result = requests.post(update_url, json = json)\n",
        "  print(result.status_code, result.json())\n",
        "\n",
        "  try:\n",
        "    # Block until CTRL-C or some other terminating event\n",
        "    # time.sleep(10)\n",
        "    ngrok_process.proc.wait()\n",
        "  except KeyboardInterrupt:\n",
        "    print(\" Shutting down server\")\n",
        "    ngrok.kill()\n",
        "  finally:\n",
        "    now = time.time()\n",
        "    uptime = round(now - start)\n",
        "    print(f'uptime {uptime}s')\n",
        "    print(f'uptime {round(100 * uptime/60) / 100} mins')\n",
        "\n",
        "# restart_ngrok() # test"
      ],
      "metadata": {
        "colab": {
          "base_uri": "https://localhost:8080/"
        },
        "id": "DOLEhTwFzEil",
        "outputId": "95987831-b953-4e3a-f8db-4e3a1ae424bb"
      },
      "execution_count": 18,
      "outputs": [
        {
          "output_type": "stream",
          "name": "stdout",
          "text": [
            "Looking in indexes: https://pypi.org/simple, https://us-python.pkg.dev/colab-wheels/public/simple/\n",
            "Requirement already satisfied: pyngrok in /usr/local/lib/python3.7/dist-packages (5.1.0)\n",
            "Requirement already satisfied: PyYAML in /usr/local/lib/python3.7/dist-packages (from pyngrok) (6.0)\n"
          ]
        }
      ]
    },
    {
      "cell_type": "code",
      "execution_count": null,
      "metadata": {
        "id": "qrRYWN7qTioY",
        "outputId": "e950071f-ed13-4af4-b498-758401b4e34a",
        "colab": {
          "base_uri": "https://localhost:8080/"
        }
      },
      "outputs": [
        {
          "output_type": "stream",
          "name": "stdout",
          "text": [
            "start thread\n",
            "Selected DALL-E Model - [Mega_full]\n",
            "--> Starting DALL-E Server. This might take up to two minutes.\n",
            "ngrok public_url\n",
            " http://cff9-34-90-122-10.ngrok.io\n",
            "200 {'ok': True, 'msg': 'updating AiGen server to: `[http://cff9-34-90-122-10.ngrok.io]`'}\n",
            "tcmalloc: large alloc 10350092288 bytes == 0x7f84a0e78000 @  0x7f88c0c431e7 0x4a3940 0x5b438c 0x5ea94f 0x5939cb 0x594cd3 0x5d0ecb 0x59aeca 0x515655 0x549e0e 0x4bca8a 0x59c019 0x595ef6 0x5134a6 0x549e0e 0x593fce 0x548ae9 0x5127f1 0x4bc98a 0x532b86 0x594a96 0x515600 0x549576 0x604173 0x5f5506 0x5f8c6c 0x5f9206 0x64faf2 0x64fc4e 0x7f88c0840c87 0x5b621a\n",
            "--> DALL-E Server is up and running!\n",
            "--> Model selected - DALL-E ModelSize.MEGA_FULL\n",
            " * Serving Flask app 'app' (lazy loading)\n",
            " * Environment: production\n",
            "\u001b[31m   WARNING: This is a development server. Do not use it in a production deployment.\u001b[0m\n",
            "\u001b[2m   Use a production WSGI server instead.\u001b[0m\n",
            " * Debug mode: off\n",
            "INFO:werkzeug: * Running on all addresses (0.0.0.0)\n",
            "   WARNING: This is a development server. Do not use it in a production deployment.\n",
            " * Running on http://127.0.0.1:8000\n",
            " * Running on http://172.28.0.2:8000 (Press CTRL+C to quit)\n",
            "INFO:werkzeug:127.0.0.1 - - [24/Jun/2022 17:08:33] \"GET / HTTP/1.1\" 200 -\n",
            "Created 1 images from text prompt [fish robot]\n",
            "INFO:werkzeug:127.0.0.1 - - [24/Jun/2022 17:08:47] \"POST /dalle HTTP/1.1\" 200 -\n",
            "INFO:werkzeug:127.0.0.1 - - [24/Jun/2022 17:11:23] \"GET / HTTP/1.1\" 200 -\n",
            "Created 1 images from text prompt [food for robots]\n",
            "INFO:werkzeug:127.0.0.1 - - [24/Jun/2022 17:11:37] \"POST /dalle HTTP/1.1\" 200 -\n",
            "INFO:werkzeug:127.0.0.1 - - [24/Jun/2022 18:23:27] \"GET / HTTP/1.1\" 200 -\n",
            "Created 1 images from text prompt [foobar]\n",
            "INFO:werkzeug:127.0.0.1 - - [24/Jun/2022 18:23:41] \"POST /dalle HTTP/1.1\" 200 -\n",
            "INFO:werkzeug:127.0.0.1 - - [24/Jun/2022 18:23:55] \"GET / HTTP/1.1\" 200 -\n",
            "INFO:werkzeug:127.0.0.1 - - [24/Jun/2022 18:24:02] \"GET / HTTP/1.1\" 200 -\n",
            "Created 1 images from text prompt [foobar]\n",
            "INFO:werkzeug:127.0.0.1 - - [24/Jun/2022 18:24:15] \"POST /dalle HTTP/1.1\" 200 -\n",
            "Created 1 images from text prompt [fubar]\n",
            "INFO:werkzeug:127.0.0.1 - - [24/Jun/2022 18:24:22] \"POST /dalle HTTP/1.1\" 200 -\n",
            "INFO:werkzeug:127.0.0.1 - - [24/Jun/2022 18:26:59] \"GET / HTTP/1.1\" 200 -\n",
            "Created 1 images from text prompt [a robot octopus]\n",
            "INFO:werkzeug:127.0.0.1 - - [24/Jun/2022 18:27:13] \"POST /dalle HTTP/1.1\" 200 -\n",
            "INFO:werkzeug:127.0.0.1 - - [24/Jun/2022 18:29:45] \"GET / HTTP/1.1\" 200 -\n",
            "Created 1 images from text prompt [sipping cocktails on the beach]\n",
            "INFO:werkzeug:127.0.0.1 - - [24/Jun/2022 18:29:58] \"POST /dalle HTTP/1.1\" 200 -\n",
            "INFO:werkzeug:127.0.0.1 - - [24/Jun/2022 18:30:01] \"GET / HTTP/1.1\" 200 -\n",
            "Created 1 images from text prompt [robocop eating icecream]\n",
            "INFO:werkzeug:127.0.0.1 - - [24/Jun/2022 18:30:14] \"POST /dalle HTTP/1.1\" 200 -\n",
            "INFO:werkzeug:127.0.0.1 - - [24/Jun/2022 18:31:54] \"GET / HTTP/1.1\" 200 -\n",
            "Created 1 images from text prompt [a joker playing card from the cyberpunk future drawing]\n",
            "INFO:werkzeug:127.0.0.1 - - [24/Jun/2022 18:32:08] \"POST /dalle HTTP/1.1\" 200 -\n",
            "INFO:werkzeug:127.0.0.1 - - [24/Jun/2022 18:42:13] \"GET / HTTP/1.1\" 200 -\n",
            "Created 1 images from text prompt [a pirate ship in the clouds]\n",
            "INFO:werkzeug:127.0.0.1 - - [24/Jun/2022 18:42:27] \"POST /dalle HTTP/1.1\" 200 -\n",
            "INFO:werkzeug:127.0.0.1 - - [24/Jun/2022 18:43:14] \"GET / HTTP/1.1\" 200 -\n",
            "Created 1 images from text prompt [dog in water]\n",
            "INFO:werkzeug:127.0.0.1 - - [24/Jun/2022 18:43:28] \"POST /dalle HTTP/1.1\" 200 -\n",
            "INFO:werkzeug:127.0.0.1 - - [24/Jun/2022 18:44:22] \"GET / HTTP/1.1\" 200 -\n",
            "INFO:werkzeug:127.0.0.1 - - [24/Jun/2022 18:44:36] \"POST /dalle HTTP/1.1\" 200 -\n",
            "Created 1 images from text prompt [a flying fish out of water high resolution photo]\n",
            "INFO:werkzeug:127.0.0.1 - - [24/Jun/2022 18:44:45] \"GET / HTTP/1.1\" 200 -\n",
            "Created 1 images from text prompt [a movie star flash photo by andy warhol]\n",
            "INFO:werkzeug:127.0.0.1 - - [24/Jun/2022 18:44:58] \"POST /dalle HTTP/1.1\" 200 -\n",
            "INFO:werkzeug:127.0.0.1 - - [24/Jun/2022 18:45:04] \"GET / HTTP/1.1\" 200 -\n",
            "Created 1 images from text prompt [a flying fish over the moon]\n",
            "INFO:werkzeug:127.0.0.1 - - [24/Jun/2022 18:45:18] \"POST /dalle HTTP/1.1\" 200 -\n",
            "INFO:werkzeug:127.0.0.1 - - [24/Jun/2022 18:45:26] \"GET / HTTP/1.1\" 200 -\n",
            "Created 1 images from text prompt [cat on a skateboard]\n",
            "INFO:werkzeug:127.0.0.1 - - [24/Jun/2022 18:45:40] \"POST /dalle HTTP/1.1\" 200 -\n",
            "INFO:werkzeug:127.0.0.1 - - [24/Jun/2022 18:46:01] \"GET / HTTP/1.1\" 200 -\n",
            "Created 1 images from text prompt [mickey mouse with a blonde wig]\n",
            "INFO:werkzeug:127.0.0.1 - - [24/Jun/2022 18:46:14] \"POST /dalle HTTP/1.1\" 200 -\n",
            "INFO:werkzeug:127.0.0.1 - - [24/Jun/2022 18:46:46] \"GET / HTTP/1.1\" 200 -\n",
            "Created 1 images from text prompt [a crash test dummy with a purple wig]\n",
            "INFO:werkzeug:127.0.0.1 - - [24/Jun/2022 18:47:00] \"POST /dalle HTTP/1.1\" 200 -\n",
            "INFO:werkzeug:127.0.0.1 - - [24/Jun/2022 18:47:12] \"GET / HTTP/1.1\" 200 -\n",
            "Created 1 images from text prompt [bunny with wings in outer space]\n",
            "INFO:werkzeug:127.0.0.1 - - [24/Jun/2022 18:47:26] \"POST /dalle HTTP/1.1\" 200 -\n",
            "INFO:werkzeug:127.0.0.1 - - [24/Jun/2022 18:47:46] \"GET / HTTP/1.1\" 200 -\n",
            "Created 1 images from text prompt [banksy painting of a robot buddy throwing flowers]\n",
            "INFO:werkzeug:127.0.0.1 - - [24/Jun/2022 18:48:00] \"POST /dalle HTTP/1.1\" 200 -\n",
            "INFO:werkzeug:127.0.0.1 - - [24/Jun/2022 18:48:36] \"GET / HTTP/1.1\" 200 -\n",
            "Created 1 images from text prompt [banksy painting of godzilla]\n",
            "INFO:werkzeug:127.0.0.1 - - [24/Jun/2022 18:48:50] \"POST /dalle HTTP/1.1\" 200 -\n",
            "INFO:werkzeug:127.0.0.1 - - [24/Jun/2022 18:49:08] \"GET / HTTP/1.1\" 200 -\n",
            "INFO:werkzeug:127.0.0.1 - - [24/Jun/2022 18:49:10] \"GET / HTTP/1.1\" 200 -\n",
            "Created 1 images from text prompt [SpongeBob in high heels]\n",
            "INFO:werkzeug:127.0.0.1 - - [24/Jun/2022 18:49:34] \"POST /dalle HTTP/1.1\" 200 -\n",
            "Created 1 images from text prompt [mange anime gondzilla]\n",
            "INFO:werkzeug:127.0.0.1 - - [24/Jun/2022 18:49:35] \"POST /dalle HTTP/1.1\" 200 -\n",
            "INFO:werkzeug:127.0.0.1 - - [24/Jun/2022 18:52:52] \"GET / HTTP/1.1\" 200 -\n",
            "Created 1 images from text prompt [a futuristic toy for kids]\n",
            "INFO:werkzeug:127.0.0.1 - - [24/Jun/2022 18:53:06] \"POST /dalle HTTP/1.1\" 200 -\n",
            "INFO:werkzeug:127.0.0.1 - - [24/Jun/2022 18:53:33] \"GET / HTTP/1.1\" 200 -\n",
            "Created 1 images from text prompt [a new recipe using bananas and icecream]\n",
            "INFO:werkzeug:127.0.0.1 - - [24/Jun/2022 18:53:46] \"POST /dalle HTTP/1.1\" 200 -\n"
          ]
        }
      ],
      "source": [
        "\n",
        "def app():\n",
        "  print(f\"Selected DALL-E Model - [{dalle_model}]\")\n",
        "  !python dalle-playground/backend/app.py --port {app_port} --model_version {dalle_model} --save_to_disk true --img_format jpeg --output_dir generations\n",
        "  print(f'dalle starting on {app_port}')\n",
        "\n",
        "if __name__=='__main__':\n",
        "  print('start thread')\n",
        "  t1 = Thread(target = app)\n",
        "  a = t1.start()\n",
        "  # !lt --port {app_port}\n",
        "  restart_ngrok()  \n",
        "else:\n",
        "  print('not main')\n"
      ]
    },
    {
      "cell_type": "markdown",
      "metadata": {
        "id": "UPhc5fgqT_Q0"
      },
      "source": [
        "## Now use the updated URL\n",
        "for the main application\n",
        "\n",
        "it should look like this:\n",
        "\n",
        "```\n",
        "ngrok public_url\n",
        " http://xxxx-12-34-567-89.ngrok.io\n",
        "```\n",
        "\n",
        "## 🎉 Let the fun begin ✨\n"
      ]
    }
  ],
  "metadata": {
    "accelerator": "GPU",
    "colab": {
      "collapsed_sections": [],
      "machine_shape": "hm",
      "name": "DALL-E Playground Backend",
      "provenance": [],
      "toc_visible": true
    },
    "kernelspec": {
      "display_name": "Python 3",
      "name": "python3"
    },
    "language_info": {
      "name": "python"
    }
  },
  "nbformat": 4,
  "nbformat_minor": 0
}