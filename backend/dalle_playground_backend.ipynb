{
  "cells": [
    {
      "cell_type": "markdown",
      "metadata": {
        "id": "view-in-github",
        "colab_type": "text"
      },
      "source": [
        "<a href=\"https://colab.research.google.com/github/dcsan/dalle-playground/blob/main/backend/dalle_playground_backend.ipynb\" target=\"_parent\"><img src=\"https://colab.research.google.com/assets/colab-badge.svg\" alt=\"Open In Colab\"/></a>"
      ]
    },
    {
      "cell_type": "markdown",
      "metadata": {
        "id": "118UKH5bWCGa"
      },
      "source": [
        "dc fork v12\n",
        "\n",
        "<center><img src=\"https://emojipedia-us.s3.dualstack.us-west-1.amazonaws.com/thumbs/240/apple/285/woman-artist_1f469-200d-1f3a8.png\" width=\"120\">\n",
        "</center>\n",
        "\n",
        "### <center>Use this notebook to run your DALL-E server</center>\n",
        "### <center> [DALL-E Playground Repository](https://github.com/saharmor/dalle-playground) </center>\n",
        "\n",
        "#####<center>This notebook is based on the amazing [DALL·E Mini](https://github.com/borisdayma/dalle-mini) by [Boris Dayma](https://github.com/borisdayma) et al.</center>"
      ]
    },
    {
      "cell_type": "markdown",
      "metadata": {
        "id": "dS8LbaonYm3a"
      },
      "source": [
        "## Install dependencies"
      ]
    },
    {
      "cell_type": "code",
      "execution_count": null,
      "metadata": {
        "id": "MyO_o-lTQn2A",
        "outputId": "a2107ec2-979b-4202-a4e0-fdb5ddff407f",
        "colab": {
          "base_uri": "https://localhost:8080/"
        }
      },
      "outputs": [
        {
          "output_type": "stream",
          "name": "stdout",
          "text": [
            "sample_data\n",
            "Cloning into 'dalle-playground'...\n",
            "remote: Enumerating objects: 669, done.\u001b[K\n",
            "remote: Counting objects: 100% (188/188), done.\u001b[K\n",
            "remote: Compressing objects: 100% (100/100), done.\u001b[K\n",
            "remote: Total 669 (delta 120), reused 133 (delta 88), pack-reused 481\u001b[K\n",
            "Receiving objects: 100% (669/669), 1.77 MiB | 16.59 MiB/s, done.\n",
            "Resolving deltas: 100% (401/401), done.\n",
            "Looking in indexes: https://pypi.org/simple, https://us-python.pkg.dev/colab-wheels/public/simple/\n",
            "Collecting git+https://github.com/huggingface/transformers.git (from -r dalle-playground/backend/requirements.txt (line 5))\n",
            "  Cloning https://github.com/huggingface/transformers.git to /tmp/pip-req-build-y7xi_tin\n",
            "  Running command git clone -q https://github.com/huggingface/transformers.git /tmp/pip-req-build-y7xi_tin\n",
            "  Installing build dependencies ... \u001b[?25l\u001b[?25hdone\n",
            "  Getting requirements to build wheel ... \u001b[?25l\u001b[?25hdone\n",
            "    Preparing wheel metadata ... \u001b[?25l\u001b[?25hdone\n",
            "Collecting git+https://github.com/patil-suraj/vqgan-jax.git (from -r dalle-playground/backend/requirements.txt (line 6))\n",
            "  Cloning https://github.com/patil-suraj/vqgan-jax.git to /tmp/pip-req-build-g4o29_h3\n",
            "  Running command git clone -q https://github.com/patil-suraj/vqgan-jax.git /tmp/pip-req-build-g4o29_h3\n",
            "Collecting git+https://github.com/borisdayma/dalle-mini.git (from -r dalle-playground/backend/requirements.txt (line 7))\n",
            "  Cloning https://github.com/borisdayma/dalle-mini.git to /tmp/pip-req-build-qa_rvhgj\n",
            "  Running command git clone -q https://github.com/borisdayma/dalle-mini.git /tmp/pip-req-build-qa_rvhgj\n",
            "  Installing build dependencies ... \u001b[?25l\u001b[?25hdone\n",
            "  Getting requirements to build wheel ... \u001b[?25l\u001b[?25hdone\n",
            "    Preparing wheel metadata ... \u001b[?25l\u001b[?25hdone\n",
            "Collecting Flask==2.1.0\n",
            "  Downloading Flask-2.1.0-py3-none-any.whl (95 kB)\n",
            "\u001b[K     |████████████████████████████████| 95 kB 3.7 MB/s \n",
            "\u001b[?25hCollecting Flask-Cors==3.0.9\n",
            "  Downloading Flask_Cors-3.0.9-py2.py3-none-any.whl (14 kB)\n",
            "Collecting Flask-RESTful==0.3.8\n",
            "  Downloading Flask_RESTful-0.3.8-py2.py3-none-any.whl (25 kB)\n",
            "Collecting flax==0.5.0\n",
            "  Downloading flax-0.5.0-py3-none-any.whl (190 kB)\n",
            "\u001b[K     |████████████████████████████████| 190 kB 60.0 MB/s \n",
            "\u001b[?25hRequirement already satisfied: tqdm in /usr/local/lib/python3.7/dist-packages (from -r dalle-playground/backend/requirements.txt (line 8)) (4.64.0)\n",
            "Collecting ftfy\n",
            "  Downloading ftfy-6.1.1-py3-none-any.whl (53 kB)\n",
            "\u001b[K     |████████████████████████████████| 53 kB 2.2 MB/s \n",
            "\u001b[?25hRequirement already satisfied: jax in /usr/local/lib/python3.7/dist-packages (from dalle-mini==0.1.1->-r dalle-playground/backend/requirements.txt (line 7)) (0.3.8)\n",
            "Collecting wandb\n",
            "  Downloading wandb-0.12.20-py2.py3-none-any.whl (1.8 MB)\n",
            "\u001b[K     |████████████████████████████████| 1.8 MB 69.0 MB/s \n",
            "\u001b[?25hRequirement already satisfied: pillow in /usr/local/lib/python3.7/dist-packages (from dalle-mini==0.1.1->-r dalle-playground/backend/requirements.txt (line 7)) (7.1.2)\n",
            "Collecting emoji\n",
            "  Downloading emoji-1.7.0.tar.gz (175 kB)\n",
            "\u001b[K     |████████████████████████████████| 175 kB 79.0 MB/s \n",
            "\u001b[?25hCollecting unidecode\n",
            "  Downloading Unidecode-1.3.4-py3-none-any.whl (235 kB)\n",
            "\u001b[K     |████████████████████████████████| 235 kB 70.2 MB/s \n",
            "\u001b[?25hCollecting einops\n",
            "  Downloading einops-0.4.1-py3-none-any.whl (28 kB)\n",
            "Requirement already satisfied: filelock in /usr/local/lib/python3.7/dist-packages (from transformers==4.21.0.dev0->-r dalle-playground/backend/requirements.txt (line 5)) (3.7.1)\n",
            "Collecting huggingface-hub<1.0,>=0.1.0\n",
            "  Downloading huggingface_hub-0.8.1-py3-none-any.whl (101 kB)\n",
            "\u001b[K     |████████████████████████████████| 101 kB 13.9 MB/s \n",
            "\u001b[?25hRequirement already satisfied: importlib-metadata in /usr/local/lib/python3.7/dist-packages (from transformers==4.21.0.dev0->-r dalle-playground/backend/requirements.txt (line 5)) (4.11.4)\n"
          ]
        }
      ],
      "source": [
        "\n",
        "!ls\n",
        "![ ! -d 'dalle-playground' ] && git clone https://github.com/dcsan/dalle-playground.git && pip install -r dalle-playground/backend/requirements.txt\n",
        "\n",
        "# only if we need to reset:\n",
        "# !rm -rf dalle-playground\n",
        "# !git clone https://github.com/dcsan/dalle-playground.git\n",
        "# !pip install -r dalle-playground/backend/requirements.txt\n",
        "# !npm install -g localtunnel\n"
      ]
    },
    {
      "cell_type": "markdown",
      "metadata": {
        "id": "itw9hJxfl1bJ"
      },
      "source": [
        "## Choose a model\n",
        "\n",
        "* **DALL-E Mini**\n",
        "  * The original DALL-E Mini. Fastest yet suboptimal results\n",
        "  * Runs well on a 4GB GPU and the Google Colab free tier\n",
        "* **DALL-E Mega**\n",
        "  * The advanced version of DALL-E Mini. Requires more compute and VRAM\n",
        "  * Runs well on a 8GB GPU and recommended on the Google Colab Pro tier\n",
        "* **DALL-E Mega Full**\n",
        "  * The most performant DALL-E version. Requires significantly more computre and VRAM\n",
        "  * Runs well on a 12GB GPU and recommended on the Google Colab Pro+ tier\n"
      ]
    },
    {
      "cell_type": "code",
      "source": [
        "# # get/install ngrok\n",
        "# !wget --no-check-certificate -nc https://bin.equinox.io/c/4VmDzA7iaHb/ngrok-stable-linux-amd64.zip\n",
        "# !wget --no-check-certificate -nc https://eyalgruss.com/fomm/ngrok-stable-linux-amd64.zip\n",
        "# !unzip -n ngrok-stable-linux-amd64.zip\n",
        "# !pkill -f ngrok\n",
        "# !nohup /content/ngrok http -region us -inspect=false $port &\n",
        "# !npm install -g localtunnel\n",
        "\n",
        "# !npm install -g npm\n",
        "\n",
        "# check we have a GPU\n",
        "!nvidia-smi\n"
      ],
      "metadata": {
        "id": "Hf_rVzOwoj1A"
      },
      "execution_count": null,
      "outputs": []
    },
    {
      "cell_type": "code",
      "source": [
        ""
      ],
      "metadata": {
        "id": "VrsbQ1UT4QmL"
      },
      "execution_count": null,
      "outputs": []
    },
    {
      "cell_type": "code",
      "execution_count": null,
      "metadata": {
        "id": "BKmwZUHcl1bK"
      },
      "outputs": [],
      "source": [
        "#@title Select a model - remember to execute cell after selecting!\n",
        "\n",
        "dalle_model = 'Mega' #@param [\"Mini\", \"Mega\", \"Mega_full\"]"
      ]
    },
    {
      "cell_type": "markdown",
      "metadata": {
        "id": "sqF_iNGmmVIC"
      },
      "source": [
        "# Start the tunnel"
      ]
    },
    {
      "cell_type": "code",
      "source": [
        "!pip install pyngrok\n",
        "\n",
        "from threading import Thread\n",
        "from pyngrok import ngrok\n",
        "import time\n",
        "import sys\n",
        "import requests\n",
        "app_port = 8000\n",
        "update_url = 'http://revel.alfalabs.xyz/api/revel/imagenServer/set'\n",
        "ngrok.set_auth_token(\"2BGQiZOpjjTLiW9gzUB5m9wc6IN_Xn9woXsiev9XChjj195H\")\n",
        "# 2BGQ9byQL3Cjbfo7d2buDy7cgz9_3NMQJGVGQhcQZDptuXQND\n",
        "\n",
        "\n",
        "def stop_ngrok():\n",
        "  print('stopping ngrok')\n",
        "  tunnels = ngrok.get_tunnels()\n",
        "  for tunnel in tunnels:\n",
        "    print('closing tunnel', tunnel.public_url)\n",
        "    ngrok.disconnect(tunnel.public_url)\n",
        "\n",
        "def restart_ngrok():\n",
        "  # close existing bg processes\n",
        "  # free token\n",
        "  stop_ngrok()\n",
        "  ngcon = ngrok.connect(app_port)\n",
        "  puburl = ngcon.public_url\n",
        "  print('ngrok public_url\\n', puburl)\n",
        "  ngrok_process = ngrok.get_ngrok_process()\n",
        "  start = time.time()\n",
        "  json = {'url': puburl}\n",
        "  result = requests.post(update_url, json = json)\n",
        "  print(result.status_code, result.json())\n",
        "\n",
        "  try:\n",
        "    # Block until CTRL-C or some other terminating event\n",
        "    # time.sleep(10)\n",
        "    ngrok_process.proc.wait()\n",
        "  except KeyboardInterrupt:\n",
        "    print(\" Shutting down server\")\n",
        "    ngrok.kill()\n",
        "  finally:\n",
        "    now = time.time()\n",
        "    uptime = round(now - start)\n",
        "    print(f'uptime {uptime}s')\n",
        "    print(f'uptime {round(100 * uptime/60) / 100} mins')\n",
        "\n",
        "# restart_ngrok() # test\n",
        "# stop_ngrok()"
      ],
      "metadata": {
        "id": "DOLEhTwFzEil"
      },
      "execution_count": null,
      "outputs": []
    },
    {
      "cell_type": "code",
      "execution_count": null,
      "metadata": {
        "id": "qrRYWN7qTioY"
      },
      "outputs": [],
      "source": [
        "def app():\n",
        "  print(f\"Selected DALL-E Model - [{dalle_model}]\")\n",
        "  !python dalle-playground/backend/app.py --port {app_port} --model_version {dalle_model} --save_to_disk true --img_format jpeg --output_dir generations\n",
        "  print(f'dalle starting on {app_port}')\n",
        "\n",
        "\n",
        "# def warmup():\n",
        "#   check = requests.get('http://127.0.0.1:8000')\n",
        "#   print('check', check)\n",
        "#   try:\n",
        "#     # Block until CTRL-C or some other terminating event\n",
        "#     time.sleep(10)\n",
        "#     # ngrok_process.proc.wait()\n",
        "#   except KeyboardInterrupt:\n",
        "#     print(\" Shutting down server\")\n",
        "#     ngrok.kill()\n",
        "#   finally:\n",
        "#     print('complete')\n",
        "\n",
        "if __name__=='__main__':\n",
        "  print('start thread')\n",
        "  t1 = Thread(target = app)\n",
        "  a = t1.start()\n",
        "  # warmup()\n",
        "  # !lt --port {app_port}\n",
        "  restart_ngrok()\n",
        "  # app()\n",
        "  # warmup()\n",
        "\n",
        "else:\n",
        "  print('not main')\n"
      ]
    },
    {
      "cell_type": "code",
      "source": [
        "print(\"HI\")"
      ],
      "metadata": {
        "id": "dtfxMdQZy_WV"
      },
      "execution_count": null,
      "outputs": []
    },
    {
      "cell_type": "markdown",
      "metadata": {
        "id": "UPhc5fgqT_Q0"
      },
      "source": [
        "## Now use the updated URL\n",
        "for the main application\n",
        "\n",
        "it should look like this:\n",
        "\n",
        "```\n",
        "ngrok public_url\n",
        " http://xxxx-12-34-567-89.ngrok.io\n",
        "```\n",
        "\n",
        "## 🎉 Let the fun begin ✨\n"
      ]
    }
  ],
  "metadata": {
    "accelerator": "GPU",
    "colab": {
      "collapsed_sections": [],
      "name": "DALL-E Playground Backend",
      "provenance": [],
      "background_execution": "on",
      "include_colab_link": true
    },
    "kernelspec": {
      "display_name": "Python 3",
      "name": "python3"
    },
    "language_info": {
      "name": "python"
    },
    "gpuClass": "standard"
  },
  "nbformat": 4,
  "nbformat_minor": 0
}